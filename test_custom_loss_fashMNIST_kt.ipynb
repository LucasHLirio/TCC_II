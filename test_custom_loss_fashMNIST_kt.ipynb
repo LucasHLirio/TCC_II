{
  "cells": [
    {
      "cell_type": "markdown",
      "metadata": {
        "id": "view-in-github",
        "colab_type": "text"
      },
      "source": [
        "<a href=\"https://colab.research.google.com/github/LucasHLirio/TCC_II/blob/main/test_custom_loss_fashMNIST_kt.ipynb\" target=\"_parent\"><img src=\"https://colab.research.google.com/assets/colab-badge.svg\" alt=\"Open In Colab\"/></a>"
      ]
    },
    {
      "cell_type": "markdown",
      "metadata": {
        "id": "MUXex9ctTuDB"
      },
      "source": [
        "## Setup"
      ]
    },
    {
      "cell_type": "code",
      "execution_count": null,
      "metadata": {
        "id": "IqR2PQG4ZaZ0"
      },
      "outputs": [],
      "source": [
        "import tensorflow as tf\n",
        "from tensorflow import keras"
      ]
    },
    {
      "cell_type": "markdown",
      "metadata": {
        "id": "g83Lwsy-Aq2_"
      },
      "source": [
        "Install and import the Keras Tuner."
      ]
    },
    {
      "cell_type": "code",
      "execution_count": null,
      "metadata": {
        "id": "hpMLpbt9jcO6",
        "colab": {
          "base_uri": "https://localhost:8080/"
        },
        "outputId": "b4a168ae-e27b-4a80-c8a1-de2634229f23"
      },
      "outputs": [
        {
          "output_type": "stream",
          "name": "stdout",
          "text": [
            "\u001b[?25l     \u001b[90m━━━━━━━━━━━━━━━━━━━━━━━━━━━━━━━━━━━━━━━━\u001b[0m \u001b[32m0.0/128.9 kB\u001b[0m \u001b[31m?\u001b[0m eta \u001b[36m-:--:--\u001b[0m\r\u001b[2K     \u001b[91m━━━━━━━━━━━━━━━━━━━\u001b[0m\u001b[90m╺\u001b[0m\u001b[90m━━━━━━━━━━━━━━━━━━━━\u001b[0m \u001b[32m61.4/128.9 kB\u001b[0m \u001b[31m1.7 MB/s\u001b[0m eta \u001b[36m0:00:01\u001b[0m\r\u001b[2K     \u001b[90m━━━━━━━━━━━━━━━━━━━━━━━━━━━━━━━━━━━━━━━━\u001b[0m \u001b[32m128.9/128.9 kB\u001b[0m \u001b[31m2.4 MB/s\u001b[0m eta \u001b[36m0:00:00\u001b[0m\n",
            "\u001b[?25h"
          ]
        }
      ],
      "source": [
        "!pip install -q -U keras-tuner"
      ]
    },
    {
      "cell_type": "code",
      "execution_count": null,
      "metadata": {
        "id": "_leAIdFKAxAD"
      },
      "outputs": [],
      "source": [
        "import keras_tuner as kt"
      ]
    },
    {
      "cell_type": "markdown",
      "metadata": {
        "id": "ReV_UXOgCZvx"
      },
      "source": [
        "## Download and prepare the dataset\n"
      ]
    },
    {
      "cell_type": "code",
      "execution_count": null,
      "metadata": {
        "id": "OHlHs9Wj_PUM",
        "colab": {
          "base_uri": "https://localhost:8080/"
        },
        "outputId": "adb4f7b3-3406-4596-daa3-2f24bb89eda4"
      },
      "outputs": [
        {
          "output_type": "stream",
          "name": "stdout",
          "text": [
            "Downloading data from https://storage.googleapis.com/tensorflow/tf-keras-datasets/train-labels-idx1-ubyte.gz\n",
            "29515/29515 [==============================] - 0s 0us/step\n",
            "Downloading data from https://storage.googleapis.com/tensorflow/tf-keras-datasets/train-images-idx3-ubyte.gz\n",
            "26421880/26421880 [==============================] - 0s 0us/step\n",
            "Downloading data from https://storage.googleapis.com/tensorflow/tf-keras-datasets/t10k-labels-idx1-ubyte.gz\n",
            "5148/5148 [==============================] - 0s 0us/step\n",
            "Downloading data from https://storage.googleapis.com/tensorflow/tf-keras-datasets/t10k-images-idx3-ubyte.gz\n",
            "4422102/4422102 [==============================] - 0s 0us/step\n"
          ]
        }
      ],
      "source": [
        "(img_train, label_train), (img_test, label_test) = keras.datasets.fashion_mnist.load_data()"
      ]
    },
    {
      "cell_type": "code",
      "execution_count": null,
      "metadata": {
        "id": "bLVhXs3xrUD0"
      },
      "outputs": [],
      "source": [
        "from keras.utils import to_categorical\n",
        "\n",
        "# Normalize pixel values between 0 and 1\n",
        "img_train = img_train.astype('float32') / 255.0\n",
        "img_test = img_test.astype('float32') / 255.0\n",
        "\n",
        "# One-hot encode labels for categorical crossentropy function\n",
        "label_train = to_categorical(label_train, num_classes=10)\n",
        "label_test = to_categorical(label_test, num_classes=10)"
      ]
    },
    {
      "cell_type": "markdown",
      "source": [
        "## Creating custom loss function"
      ],
      "metadata": {
        "id": "shwwOOx1GC8k"
      }
    },
    {
      "cell_type": "code",
      "source": [
        "from keras import losses\n",
        "class ChebyshevLoss(losses.Loss):\n",
        "    def __init__(self, ideal_loss_point, weights, name=\"chebyshev_loss\"):\n",
        "        super().__init__(name=name)\n",
        "        self.ideal_loss_point = ideal_loss_point\n",
        "        self.weights = weights\n",
        "\n",
        "    def call(self, y_true, y_pred):\n",
        "        # Calcula a perda de entropia cruzada (erro)\n",
        "        error_loss = tf.keras.losses.categorical_crossentropy(y_true, y_pred, from_logits=True)\n",
        "\n",
        "        # Calcula a perda de complexidade L2 (regularização L2)\n",
        "        l2_loss = tf.add_n([tf.nn.l2_loss(weight) for weight in self.model.trainable_weights])\n",
        "\n",
        "        # A Escalarização Chebyshev envolve a maximização do mínimo dos pesos ponderados\n",
        "        # Chebyshev loss é essencialmente a maior diferença ponderada de cada objetivo para os pontos ideais\n",
        "        weighted_error_diff = self.weights[0] * (error_loss - self.ideal_loss_point[0])\n",
        "        weighted_l2_diff = self.weights[1] * (l2_loss - self.ideal_loss_point[1])\n",
        "\n",
        "        # Combinando os componentes da perda seguindo o critério de Chebyshev\n",
        "        chebyshev_loss = tf.maximum(weighted_error_diff, weighted_l2_diff)\n",
        "\n",
        "        return chebyshev_loss\n",
        "\n",
        "    def get_config(self):\n",
        "        config = super(ChebyshevLoss, self).get_config()\n",
        "        config.update({\n",
        "            \"ideal_loss_point\": self.ideal_loss_point,\n",
        "            \"weights\": self.weights\n",
        "        })\n",
        "        return config"
      ],
      "metadata": {
        "id": "jR7U6FYOUJjQ"
      },
      "execution_count": null,
      "outputs": []
    },
    {
      "cell_type": "markdown",
      "metadata": {
        "id": "K5YEL2H2Ax3e"
      },
      "source": [
        "## Define the model\n"
      ]
    },
    {
      "cell_type": "code",
      "execution_count": null,
      "metadata": {
        "id": "ZQKodC-jtsva"
      },
      "outputs": [],
      "source": [
        "def model_builder(hp):\n",
        "\n",
        "  # model hps\n",
        "  hp_units = hp.Int('units', min_value=32, max_value=512, step=32)\n",
        "  hp_learning_rate = hp.Choice('learning_rate', values=[1e-1,1e-2,1e-3])\n",
        "\n",
        "  #model structure\n",
        "  model = keras.Sequential()\n",
        "  model.add(keras.layers.Flatten(input_shape=(28, 28)))\n",
        "  model.add(keras.layers.Dense(units=hp_units, activation='relu'))\n",
        "  model.add(keras.layers.Dense(10))\n",
        "\n",
        "  #loss function hps\n",
        "  # hp_wheights1 = hp.Float('loss_wgt1', min_value=0.0, max_value=1.0, step=0.1)\n",
        "  # hp_wheights2 = hp.Float('loss_wgt2', min_value=0.0, max_value=0.1, step=0.01)\n",
        "\n",
        "  ideal_loss_point = (0.0, 0.0)\n",
        "  weights=(1, 0) # fixed weights instead of HP chosen ones\n",
        "\n",
        "  custom_loss_cheb = ChebyshevLoss(ideal_loss_point=ideal_loss_point, weights=weights)\n",
        "  custom_loss_cheb.model = model #associates a model to the loss function\n",
        "\n",
        "  model.compile(optimizer=keras.optimizers.Adam(learning_rate=hp_learning_rate),\n",
        "                loss=custom_loss_cheb,\n",
        "                metrics=['accuracy'])\n",
        "\n",
        "  return model"
      ]
    },
    {
      "cell_type": "markdown",
      "metadata": {
        "id": "0J1VYw4q3x0b"
      },
      "source": [
        "## Instantiate the tuner and perform hypertuning"
      ]
    },
    {
      "cell_type": "code",
      "execution_count": null,
      "metadata": {
        "id": "oichQFly6Y46"
      },
      "outputs": [],
      "source": [
        "tuner = kt.BayesianOptimization(\n",
        "    model_builder,\n",
        "    objective='val_accuracy',\n",
        "    max_trials=50,\n",
        "    overwrite=True) #overwrites a saved project"
      ]
    },
    {
      "cell_type": "markdown",
      "metadata": {
        "id": "cwhBdXx0Ekj8"
      },
      "source": [
        "Create a callback to stop training early after reaching a certain value for the validation loss."
      ]
    },
    {
      "cell_type": "code",
      "execution_count": null,
      "metadata": {
        "id": "WT9IkS9NEjLc"
      },
      "outputs": [],
      "source": [
        "stop_early = tf.keras.callbacks.EarlyStopping(monitor='val_loss', patience=5)"
      ]
    },
    {
      "cell_type": "markdown",
      "metadata": {
        "id": "UKghEo15Tduy"
      },
      "source": [
        "Run the hyperparameter search"
      ]
    },
    {
      "cell_type": "code",
      "source": [
        "import time as t\n",
        "search_start = t.time()\n",
        "\n",
        "tuner.search(img_train, label_train, epochs=10, validation_split=0.4, callbacks=[stop_early])"
      ],
      "metadata": {
        "colab": {
          "base_uri": "https://localhost:8080/"
        },
        "id": "32qIW0Gf4frR",
        "outputId": "ec896701-5461-44d5-90da-7d4ed0883746"
      },
      "execution_count": null,
      "outputs": [
        {
          "output_type": "stream",
          "name": "stdout",
          "text": [
            "Trial 50 Complete [00h 00m 55s]\n",
            "val_accuracy: 0.8824999928474426\n",
            "\n",
            "Best val_accuracy So Far: 0.8911250233650208\n",
            "Total elapsed time: 00h 56m 29s\n"
          ]
        }
      ]
    },
    {
      "cell_type": "code",
      "execution_count": null,
      "metadata": {
        "id": "dSBQcTHF9cKt",
        "colab": {
          "base_uri": "https://localhost:8080/"
        },
        "outputId": "33f89ab1-88bb-4a08-8cac-acf4ccce0162"
      },
      "outputs": [
        {
          "output_type": "stream",
          "name": "stdout",
          "text": [
            "Search duration: 56.49 minutes \n"
          ]
        }
      ],
      "source": [
        "search_end = t.time()\n",
        "search_duration = (search_end - search_start)/60\n",
        "\n",
        "# Get the optimal hyperparameters\n",
        "best_hps=tuner.get_best_hyperparameters(num_trials=1)[0]\n",
        "\n",
        "print(f\"Search duration: {search_duration:.2f} minutes \")"
      ]
    },
    {
      "cell_type": "markdown",
      "metadata": {
        "id": "Lak_ylf88xBv"
      },
      "source": [
        "## Train the model\n",
        "\n",
        "Find the optimal number of epochs to train the model with the hyperparameters obtained from the search."
      ]
    },
    {
      "cell_type": "code",
      "execution_count": null,
      "metadata": {
        "id": "McO82AXOuxXh",
        "colab": {
          "base_uri": "https://localhost:8080/"
        },
        "outputId": "ab221ad1-bd59-44f6-86f1-1088129bd17f"
      },
      "outputs": [
        {
          "output_type": "stream",
          "name": "stdout",
          "text": [
            "Epoch 1/50\n",
            "1125/1125 [==============================] - 6s 5ms/step - loss: 0.5211 - accuracy: 0.8166 - val_loss: 0.4151 - val_accuracy: 0.8542\n",
            "Epoch 2/50\n",
            "1125/1125 [==============================] - 4s 4ms/step - loss: 0.3920 - accuracy: 0.8573 - val_loss: 0.3962 - val_accuracy: 0.8580\n",
            "Epoch 3/50\n",
            "1125/1125 [==============================] - 5s 5ms/step - loss: 0.3450 - accuracy: 0.8727 - val_loss: 0.3780 - val_accuracy: 0.8607\n",
            "Epoch 4/50\n",
            "1125/1125 [==============================] - 5s 4ms/step - loss: 0.3173 - accuracy: 0.8823 - val_loss: 0.3522 - val_accuracy: 0.8731\n",
            "Epoch 5/50\n",
            "1125/1125 [==============================] - 4s 4ms/step - loss: 0.2984 - accuracy: 0.8879 - val_loss: 0.3689 - val_accuracy: 0.8634\n",
            "Epoch 6/50\n",
            "1125/1125 [==============================] - 4s 4ms/step - loss: 0.2821 - accuracy: 0.8955 - val_loss: 0.3442 - val_accuracy: 0.8774\n",
            "Epoch 7/50\n",
            "1125/1125 [==============================] - 5s 5ms/step - loss: 0.2646 - accuracy: 0.9013 - val_loss: 0.3363 - val_accuracy: 0.8821\n",
            "Epoch 8/50\n",
            "1125/1125 [==============================] - 4s 4ms/step - loss: 0.2571 - accuracy: 0.9034 - val_loss: 0.3415 - val_accuracy: 0.8790\n",
            "Epoch 9/50\n",
            "1125/1125 [==============================] - 6s 5ms/step - loss: 0.2437 - accuracy: 0.9100 - val_loss: 0.3277 - val_accuracy: 0.8865\n",
            "Epoch 10/50\n",
            "1125/1125 [==============================] - 5s 4ms/step - loss: 0.2346 - accuracy: 0.9115 - val_loss: 0.3343 - val_accuracy: 0.8802\n",
            "Epoch 11/50\n",
            "1125/1125 [==============================] - 4s 4ms/step - loss: 0.2249 - accuracy: 0.9159 - val_loss: 0.3298 - val_accuracy: 0.8871\n",
            "Epoch 12/50\n",
            "1125/1125 [==============================] - 6s 5ms/step - loss: 0.2172 - accuracy: 0.9175 - val_loss: 0.3195 - val_accuracy: 0.8918\n",
            "Epoch 13/50\n",
            "1125/1125 [==============================] - 4s 4ms/step - loss: 0.2065 - accuracy: 0.9221 - val_loss: 0.3337 - val_accuracy: 0.8914\n",
            "Epoch 14/50\n",
            "1125/1125 [==============================] - 4s 4ms/step - loss: 0.1993 - accuracy: 0.9249 - val_loss: 0.3399 - val_accuracy: 0.8886\n",
            "Epoch 15/50\n",
            "1125/1125 [==============================] - 5s 5ms/step - loss: 0.1915 - accuracy: 0.9285 - val_loss: 0.3353 - val_accuracy: 0.8885\n",
            "Epoch 16/50\n",
            "1125/1125 [==============================] - 4s 4ms/step - loss: 0.1878 - accuracy: 0.9296 - val_loss: 0.3404 - val_accuracy: 0.8895\n",
            "Epoch 17/50\n",
            "1125/1125 [==============================] - 4s 4ms/step - loss: 0.1792 - accuracy: 0.9319 - val_loss: 0.3719 - val_accuracy: 0.8880\n",
            "Epoch 18/50\n",
            "1125/1125 [==============================] - 6s 6ms/step - loss: 0.1758 - accuracy: 0.9335 - val_loss: 0.3594 - val_accuracy: 0.8900\n",
            "Epoch 19/50\n",
            "1125/1125 [==============================] - 4s 4ms/step - loss: 0.1673 - accuracy: 0.9374 - val_loss: 0.3463 - val_accuracy: 0.8925\n",
            "Epoch 20/50\n",
            "1125/1125 [==============================] - 6s 5ms/step - loss: 0.1619 - accuracy: 0.9378 - val_loss: 0.3561 - val_accuracy: 0.8931\n",
            "Epoch 21/50\n",
            "1125/1125 [==============================] - 5s 4ms/step - loss: 0.1593 - accuracy: 0.9386 - val_loss: 0.3543 - val_accuracy: 0.8925\n",
            "Epoch 22/50\n",
            "1125/1125 [==============================] - 4s 4ms/step - loss: 0.1526 - accuracy: 0.9421 - val_loss: 0.3692 - val_accuracy: 0.8865\n",
            "Epoch 23/50\n",
            "1125/1125 [==============================] - 5s 4ms/step - loss: 0.1446 - accuracy: 0.9453 - val_loss: 0.3603 - val_accuracy: 0.8953\n",
            "Epoch 24/50\n",
            "1125/1125 [==============================] - 4s 4ms/step - loss: 0.1444 - accuracy: 0.9447 - val_loss: 0.3582 - val_accuracy: 0.8940\n",
            "Epoch 25/50\n",
            "1125/1125 [==============================] - 4s 4ms/step - loss: 0.1374 - accuracy: 0.9482 - val_loss: 0.3885 - val_accuracy: 0.8896\n",
            "Epoch 26/50\n",
            "1125/1125 [==============================] - 6s 5ms/step - loss: 0.1332 - accuracy: 0.9499 - val_loss: 0.3766 - val_accuracy: 0.8961\n",
            "Epoch 27/50\n",
            "1125/1125 [==============================] - 4s 4ms/step - loss: 0.1287 - accuracy: 0.9532 - val_loss: 0.3899 - val_accuracy: 0.8910\n",
            "Epoch 28/50\n",
            "1125/1125 [==============================] - 4s 4ms/step - loss: 0.1263 - accuracy: 0.9522 - val_loss: 0.4348 - val_accuracy: 0.8823\n",
            "Epoch 29/50\n",
            "1125/1125 [==============================] - 5s 5ms/step - loss: 0.1213 - accuracy: 0.9539 - val_loss: 0.4398 - val_accuracy: 0.8895\n",
            "Epoch 30/50\n",
            "1125/1125 [==============================] - 4s 4ms/step - loss: 0.1189 - accuracy: 0.9563 - val_loss: 0.4041 - val_accuracy: 0.8943\n",
            "Epoch 31/50\n",
            "1125/1125 [==============================] - 4s 4ms/step - loss: 0.1155 - accuracy: 0.9568 - val_loss: 0.4196 - val_accuracy: 0.8892\n",
            "Epoch 32/50\n",
            "1125/1125 [==============================] - 5s 5ms/step - loss: 0.1164 - accuracy: 0.9562 - val_loss: 0.4520 - val_accuracy: 0.8908\n",
            "Epoch 33/50\n",
            "1125/1125 [==============================] - 4s 4ms/step - loss: 0.1081 - accuracy: 0.9592 - val_loss: 0.4093 - val_accuracy: 0.8893\n",
            "Epoch 34/50\n",
            "1125/1125 [==============================] - 4s 4ms/step - loss: 0.1124 - accuracy: 0.9569 - val_loss: 0.4298 - val_accuracy: 0.8896\n",
            "Epoch 35/50\n",
            "1125/1125 [==============================] - 5s 5ms/step - loss: 0.0995 - accuracy: 0.9628 - val_loss: 0.4386 - val_accuracy: 0.8911\n",
            "Epoch 36/50\n",
            "1125/1125 [==============================] - 4s 4ms/step - loss: 0.1007 - accuracy: 0.9630 - val_loss: 0.4557 - val_accuracy: 0.8895\n",
            "Epoch 37/50\n",
            "1125/1125 [==============================] - 4s 4ms/step - loss: 0.0993 - accuracy: 0.9626 - val_loss: 0.4677 - val_accuracy: 0.8885\n",
            "Epoch 38/50\n",
            "1125/1125 [==============================] - 6s 6ms/step - loss: 0.0960 - accuracy: 0.9638 - val_loss: 0.4757 - val_accuracy: 0.8924\n",
            "Epoch 39/50\n",
            "1125/1125 [==============================] - 4s 4ms/step - loss: 0.0910 - accuracy: 0.9657 - val_loss: 0.4451 - val_accuracy: 0.8946\n",
            "Epoch 40/50\n",
            "1125/1125 [==============================] - 4s 4ms/step - loss: 0.0897 - accuracy: 0.9667 - val_loss: 0.4587 - val_accuracy: 0.8921\n",
            "Epoch 41/50\n",
            "1125/1125 [==============================] - 5s 4ms/step - loss: 0.0894 - accuracy: 0.9672 - val_loss: 0.4652 - val_accuracy: 0.8928\n",
            "Epoch 42/50\n",
            "1125/1125 [==============================] - 6s 5ms/step - loss: 0.0864 - accuracy: 0.9672 - val_loss: 0.4716 - val_accuracy: 0.8938\n",
            "Epoch 43/50\n",
            "1125/1125 [==============================] - 5s 5ms/step - loss: 0.0851 - accuracy: 0.9691 - val_loss: 0.5183 - val_accuracy: 0.8835\n",
            "Epoch 44/50\n",
            "1125/1125 [==============================] - 4s 4ms/step - loss: 0.0832 - accuracy: 0.9698 - val_loss: 0.4835 - val_accuracy: 0.8935\n",
            "Epoch 45/50\n",
            "1125/1125 [==============================] - 4s 4ms/step - loss: 0.0811 - accuracy: 0.9694 - val_loss: 0.4641 - val_accuracy: 0.8938\n",
            "Epoch 46/50\n",
            "1125/1125 [==============================] - 5s 5ms/step - loss: 0.0772 - accuracy: 0.9717 - val_loss: 0.4890 - val_accuracy: 0.8957\n",
            "Epoch 47/50\n",
            "1125/1125 [==============================] - 4s 4ms/step - loss: 0.0773 - accuracy: 0.9706 - val_loss: 0.4799 - val_accuracy: 0.8952\n",
            "Epoch 48/50\n",
            "1125/1125 [==============================] - 4s 4ms/step - loss: 0.0757 - accuracy: 0.9722 - val_loss: 0.5569 - val_accuracy: 0.8878\n",
            "Epoch 49/50\n",
            "1125/1125 [==============================] - 6s 5ms/step - loss: 0.0744 - accuracy: 0.9721 - val_loss: 0.5185 - val_accuracy: 0.8900\n",
            "Epoch 50/50\n",
            "1125/1125 [==============================] - 4s 4ms/step - loss: 0.0726 - accuracy: 0.9731 - val_loss: 0.5165 - val_accuracy: 0.8937\n"
          ]
        }
      ],
      "source": [
        "# Build the model with the optimal hyperparameters and train it on the data for 50 epochs\n",
        "hypermodel = tuner.hypermodel.build(best_hps)\n",
        "\n",
        "fit_start = t.time()\n",
        "\n",
        "history = hypermodel.fit(img_train, label_train, epochs=50, validation_split=0.4)"
      ]
    },
    {
      "cell_type": "code",
      "source": [
        "fit_end = t.time()\n",
        "fit_duration = (fit_end - fit_start)/60\n",
        "\n",
        "print(f\"Training duration: {fit_duration:.2f} minutes \")"
      ],
      "metadata": {
        "colab": {
          "base_uri": "https://localhost:8080/"
        },
        "id": "I6O_rAyT-3E5",
        "outputId": "e53b5d73-5a14-4781-b973-be7c4b6af926"
      },
      "execution_count": null,
      "outputs": [
        {
          "output_type": "stream",
          "name": "stdout",
          "text": [
            "Training duration: 4.38 minutes \n"
          ]
        }
      ]
    },
    {
      "cell_type": "code",
      "source": [
        "from matplotlib import pyplot as plt\n",
        "\n",
        "x_axis = [x for x in range(50)]\n",
        "y_axis = history.history['val_accuracy']\n",
        "y3 = history.history['val_loss']\n",
        "plt.plot(x_axis, y_axis, x_axis,y3)\n",
        "plt.xlabel('Epochs ',fontsize=12)\n",
        "plt.legend(['Val Acc', 'Val Loss'],fontsize=12)\n",
        "plt.title('Accuracy and Loss Curves',fontsize=14)"
      ],
      "metadata": {
        "id": "J9Cy6iTZRs8O",
        "outputId": "7823b6d8-0494-4ea5-c19b-9c10cd9f6f7d",
        "colab": {
          "base_uri": "https://localhost:8080/",
          "height": 494
        }
      },
      "execution_count": null,
      "outputs": [
        {
          "output_type": "execute_result",
          "data": {
            "text/plain": [
              "Text(0.5, 1.0, 'Accuracy and Loss Curves')"
            ]
          },
          "metadata": {},
          "execution_count": 14
        },
        {
          "output_type": "display_data",
          "data": {
            "text/plain": [
              "<Figure size 640x480 with 1 Axes>"
            ],
            "image/png": "[encoded data removed]"
          },
          "metadata": {}
        }
      ]
    },
    {
      "cell_type": "code",
      "execution_count": null,
      "metadata": {
        "id": "9E0BTp9Ealjb",
        "colab": {
          "base_uri": "https://localhost:8080/"
        },
        "outputId": "c3b10ad8-544a-44ae-cb42-b1429f2f6971"
      },
      "outputs": [
        {
          "output_type": "stream",
          "name": "stdout",
          "text": [
            "313/313 [==============================] - 1s 2ms/step - loss: 0.5670 - accuracy: 0.8851\n"
          ]
        }
      ],
      "source": [
        "eval_result = hypermodel.evaluate(img_test, label_test)"
      ]
    },
    {
      "cell_type": "code",
      "source": [
        "print(\"------------ SUMMARY ------------\\n\")\n",
        "print(f\"*Best Hyperparameters found:\")\n",
        "for key, value in best_hps.values.items():\n",
        " print(key,\":\",value)\n",
        "print(f'\\n*Hypermodel Evaluation:\\nTest loss: {100*eval_result[0]:.2f} %\\nTest accuracy: {100*eval_result[1]:.2f} %')\n",
        "print(f\"\\n*Execution times:\\nHyperparameter searching time: {search_duration:.2f} minutes \\nHypermodel training time: {fit_duration:.2f} minutes\")"
      ],
      "metadata": {
        "colab": {
          "base_uri": "https://localhost:8080/"
        },
        "id": "Rc48QTQdEWhx",
        "outputId": "7ed638cb-a9e6-43cd-eb1a-76cf58d644d2"
      },
      "execution_count": null,
      "outputs": [
        {
          "output_type": "stream",
          "name": "stdout",
          "text": [
            "------------ SUMMARY ------------\n",
            "\n",
            "*Best Hyperparameters found:\n",
            "units : 288\n",
            "learning_rate : 0.001\n",
            "\n",
            "*Hypermodel Evaluation:\n",
            "Test loss: 56.70 %\n",
            "Test accuracy: 88.51 %\n",
            "\n",
            "*Execution times:\n",
            "Hyperparameter searching time: 56.49 minutes \n",
            "Hypermodel training time: 4.38 minutes\n"
          ]
        }
      ]
    }
  ],
  "metadata": {
    "accelerator": "GPU",
    "colab": {
      "provenance": [],
      "include_colab_link": true
    },
    "kernelspec": {
      "display_name": "Python 3",
      "name": "python3"
    }
  },
  "nbformat": 4,
  "nbformat_minor": 0
}
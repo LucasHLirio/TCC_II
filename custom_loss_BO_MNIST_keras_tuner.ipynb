{
  "cells": [
    {
      "cell_type": "markdown",
      "metadata": {
        "id": "view-in-github",
        "colab_type": "text"
      },
      "source": [
        "<a href=\"https://colab.research.google.com/github/LucasHLirio/TCC_II/blob/main/custom_loss_BO_MNIST_keras_tuner.ipynb\" target=\"_parent\"><img src=\"https://colab.research.google.com/assets/colab-badge.svg\" alt=\"Open In Colab\"/></a>"
      ]
    },
    {
      "cell_type": "markdown",
      "metadata": {
        "id": "MUXex9ctTuDB"
      },
      "source": [
        "## Setup"
      ]
    },
    {
      "cell_type": "code",
      "execution_count": null,
      "metadata": {
        "id": "IqR2PQG4ZaZ0"
      },
      "outputs": [],
      "source": [
        "import tensorflow as tf\n",
        "from tensorflow import keras"
      ]
    },
    {
      "cell_type": "markdown",
      "metadata": {
        "id": "g83Lwsy-Aq2_"
      },
      "source": [
        "Install and import the Keras Tuner."
      ]
    },
    {
      "cell_type": "code",
      "execution_count": null,
      "metadata": {
        "id": "hpMLpbt9jcO6"
      },
      "outputs": [],
      "source": [
        "!pip install -q -U keras-tuner"
      ]
    },
    {
      "cell_type": "code",
      "execution_count": null,
      "metadata": {
        "id": "_leAIdFKAxAD"
      },
      "outputs": [],
      "source": [
        "import keras_tuner as kt"
      ]
    },
    {
      "cell_type": "markdown",
      "metadata": {
        "id": "ReV_UXOgCZvx"
      },
      "source": [
        "## Download and prepare the dataset\n"
      ]
    },
    {
      "cell_type": "code",
      "execution_count": null,
      "metadata": {
        "id": "OHlHs9Wj_PUM"
      },
      "outputs": [],
      "source": [
        "(img_train, label_train), (img_test, label_test) = keras.datasets.mnist.load_data(path=\"mnist.npz\")"
      ]
    },
    {
      "cell_type": "code",
      "execution_count": null,
      "metadata": {
        "id": "bLVhXs3xrUD0"
      },
      "outputs": [],
      "source": [
        "from keras.utils import to_categorical\n",
        "\n",
        "# Normalize pixel values between 0 and 1\n",
        "img_train = img_train.astype('float32') / 255.0\n",
        "img_test = img_test.astype('float32') / 255.0\n",
        "\n",
        "# One-hot encode labels for categorical crossentropy function\n",
        "label_train = to_categorical(label_train, num_classes=10)\n",
        "label_test = to_categorical(label_test, num_classes=10)"
      ]
    },
    {
      "cell_type": "markdown",
      "source": [
        "## Creating custom loss function"
      ],
      "metadata": {
        "id": "shwwOOx1GC8k"
      }
    },
    {
      "cell_type": "code",
      "source": [
        "from keras import losses\n",
        "class ChebyshevLoss(losses.Loss):\n",
        "    # def __init__(self, ideal_loss_point=(0.0, 0.0), weights=(0.0, 0.0), name=\"chebyshev_loss\"):\n",
        "    def __init__(self, ideal_loss_point, weights, name=\"chebyshev_loss\"):\n",
        "        super().__init__(name=name)\n",
        "        self.ideal_loss_point = ideal_loss_point\n",
        "        self.weights = weights\n",
        "\n",
        "    def call(self, y_true, y_pred):\n",
        "        # Calculates cross entropy loss (error)\n",
        "        error_loss = tf.keras.losses.categorical_crossentropy(y_true, y_pred, from_logits=True)\n",
        "\n",
        "        # Calculates L2 regularization (complexity)\n",
        "        l2_loss = tf.add_n([tf.nn.l2_loss(weight) for weight in self.model.trainable_weights])\n",
        "\n",
        "        # Chebyshev Scalarization involves maximizing the minimum of weights\n",
        "        # Chebyshev loss is essentially the largest weighted difference of each objective to the ideal points\n",
        "        weighted_error_diff = self.weights[0] * (error_loss - self.ideal_loss_point[0])\n",
        "        weighted_l2_diff = self.weights[1] * (l2_loss - self.ideal_loss_point[1])\n",
        "\n",
        "        # Combining the loss components following the Chebyshev criterion\n",
        "        chebyshev_loss = tf.maximum(weighted_error_diff, weighted_l2_diff)\n",
        "\n",
        "        return chebyshev_loss\n",
        "\n",
        "    def get_config(self):\n",
        "        config = super(ChebyshevLoss, self).get_config()\n",
        "        config.update({\n",
        "            \"ideal_loss_point\": self.ideal_loss_point,\n",
        "            \"weights\": self.weights\n",
        "        })\n",
        "        return config"
      ],
      "metadata": {
        "id": "jR7U6FYOUJjQ"
      },
      "execution_count": null,
      "outputs": []
    },
    {
      "cell_type": "markdown",
      "metadata": {
        "id": "K5YEL2H2Ax3e"
      },
      "source": [
        "## Define the model\n"
      ]
    },
    {
      "cell_type": "code",
      "execution_count": null,
      "metadata": {
        "id": "ZQKodC-jtsva"
      },
      "outputs": [],
      "source": [
        "def model_builder(hp):\n",
        "\n",
        "  # model hps\n",
        "  hp_units = hp.Int('units', min_value=32, max_value=512, step=32)\n",
        "  hp_learning_rate = hp.Choice('learning_rate', values=[1e-1,1e-2,1e-3])\n",
        "\n",
        "  #model structure\n",
        "  model = keras.Sequential()\n",
        "  model.add(keras.layers.Flatten(input_shape=(28, 28)))\n",
        "  model.add(keras.layers.Dense(units=hp_units, activation='relu'))\n",
        "  model.add(keras.layers.Dense(10))\n",
        "\n",
        "  #loss function hps\n",
        "  hp_wheights1 = hp.Float('loss_wgt1', min_value=0.0, max_value=1.0, step=0.1)\n",
        "  hp_wheights2 = hp.Float('loss_wgt2', min_value=0.0, max_value=0.2, step=0.01)\n",
        "\n",
        "  ideal_loss_point = (0.0, 0.0)\n",
        "  weights=(hp_wheights1, hp_wheights2)\n",
        "\n",
        "  custom_loss_cheb = ChebyshevLoss(ideal_loss_point=ideal_loss_point, weights=weights)\n",
        "  custom_loss_cheb.model = model #associates a model to the loss function\n",
        "\n",
        "  model.compile(optimizer=keras.optimizers.Adam(learning_rate=hp_learning_rate),\n",
        "                loss=custom_loss_cheb,\n",
        "                metrics=['accuracy'])\n",
        "\n",
        "  return model"
      ]
    },
    {
      "cell_type": "markdown",
      "metadata": {
        "id": "0J1VYw4q3x0b"
      },
      "source": [
        "## Instantiate the tuner and perform hypertuning"
      ]
    },
    {
      "cell_type": "code",
      "execution_count": null,
      "metadata": {
        "id": "oichQFly6Y46"
      },
      "outputs": [],
      "source": [
        "tuner = kt.BayesianOptimization(\n",
        "    model_builder,\n",
        "    objective='val_accuracy',\n",
        "    max_trials=20,\n",
        "    overwrite=True) #overwrites a saved project"
      ]
    },
    {
      "cell_type": "markdown",
      "metadata": {
        "id": "cwhBdXx0Ekj8"
      },
      "source": [
        "Create a callback to stop training early after reaching a certain value for the validation loss."
      ]
    },
    {
      "cell_type": "code",
      "execution_count": null,
      "metadata": {
        "id": "WT9IkS9NEjLc"
      },
      "outputs": [],
      "source": [
        "stop_early = tf.keras.callbacks.EarlyStopping(monitor='val_loss', patience=5)"
      ]
    },
    {
      "cell_type": "markdown",
      "metadata": {
        "id": "UKghEo15Tduy"
      },
      "source": [
        "Run the hyperparameter search"
      ]
    },
    {
      "cell_type": "code",
      "source": [
        "import time as t\n",
        "search_start = t.time()\n",
        "\n",
        "tuner.search(img_train, label_train, epochs=50, validation_split=0.4, callbacks=[stop_early])"
      ],
      "metadata": {
        "colab": {
          "base_uri": "https://localhost:8080/"
        },
        "id": "32qIW0Gf4frR",
        "outputId": "f0b436e5-9405-45d5-94a3-593df5db710a"
      },
      "execution_count": null,
      "outputs": [
        {
          "output_type": "stream",
          "name": "stdout",
          "text": [
            "Trial 20 Complete [00h 01m 14s]\n",
            "val_accuracy: 0.9745416641235352\n",
            "\n",
            "Best val_accuracy So Far: 0.9748333096504211\n",
            "Total elapsed time: 00h 38m 41s\n"
          ]
        }
      ]
    },
    {
      "cell_type": "code",
      "execution_count": null,
      "metadata": {
        "id": "dSBQcTHF9cKt",
        "colab": {
          "base_uri": "https://localhost:8080/"
        },
        "outputId": "168f3501-9bfb-4544-d821-28e52f069968"
      },
      "outputs": [
        {
          "output_type": "stream",
          "name": "stdout",
          "text": [
            "Search duration: 38.68 minutes \n"
          ]
        }
      ],
      "source": [
        "search_end = t.time()\n",
        "search_duration = (search_end - search_start)/60\n",
        "\n",
        "# Get the optimal hyperparameters\n",
        "best_hps=tuner.get_best_hyperparameters(num_trials=1)[0]\n",
        "\n",
        "print(f\"Search duration: {search_duration:.2f} minutes \")"
      ]
    },
    {
      "cell_type": "markdown",
      "metadata": {
        "id": "Lak_ylf88xBv"
      },
      "source": [
        "## Train the model\n",
        "\n",
        "Find the optimal number of epochs to train the model with the hyperparameters obtained from the search."
      ]
    },
    {
      "cell_type": "code",
      "execution_count": null,
      "metadata": {
        "id": "McO82AXOuxXh",
        "colab": {
          "base_uri": "https://localhost:8080/"
        },
        "outputId": "7354b2e1-da0a-41c7-cc7f-2d8aad514b8f"
      },
      "outputs": [
        {
          "output_type": "stream",
          "name": "stdout",
          "text": [
            "Epoch 1/50\n",
            "1125/1125 [==============================] - 12s 10ms/step - loss: 0.2210 - accuracy: 0.9278 - val_loss: 0.1301 - val_accuracy: 0.9567\n",
            "Epoch 2/50\n",
            "1125/1125 [==============================] - 11s 10ms/step - loss: 0.0876 - accuracy: 0.9710 - val_loss: 0.1042 - val_accuracy: 0.9663\n",
            "Epoch 3/50\n",
            "1125/1125 [==============================] - 10s 9ms/step - loss: 0.0552 - accuracy: 0.9805 - val_loss: 0.0844 - val_accuracy: 0.9723\n",
            "Epoch 4/50\n",
            "1125/1125 [==============================] - 10s 9ms/step - loss: 0.0342 - accuracy: 0.9887 - val_loss: 0.0907 - val_accuracy: 0.9705\n",
            "Epoch 5/50\n",
            "1125/1125 [==============================] - 12s 10ms/step - loss: 0.0260 - accuracy: 0.9911 - val_loss: 0.0894 - val_accuracy: 0.9715\n",
            "Epoch 6/50\n",
            "1125/1125 [==============================] - 11s 10ms/step - loss: 0.0181 - accuracy: 0.9941 - val_loss: 0.0937 - val_accuracy: 0.9727\n",
            "Epoch 7/50\n",
            "1125/1125 [==============================] - 10s 9ms/step - loss: 0.0147 - accuracy: 0.9952 - val_loss: 0.1030 - val_accuracy: 0.9719\n",
            "Epoch 8/50\n",
            "1125/1125 [==============================] - 11s 10ms/step - loss: 0.0137 - accuracy: 0.9954 - val_loss: 0.0954 - val_accuracy: 0.9735\n",
            "Epoch 9/50\n",
            "1125/1125 [==============================] - 12s 11ms/step - loss: 0.0111 - accuracy: 0.9954 - val_loss: 0.1063 - val_accuracy: 0.9735\n",
            "Epoch 10/50\n",
            "1125/1125 [==============================] - 14s 12ms/step - loss: 0.0098 - accuracy: 0.9965 - val_loss: 0.0936 - val_accuracy: 0.9754\n",
            "Epoch 11/50\n",
            "1125/1125 [==============================] - 11s 10ms/step - loss: 0.0059 - accuracy: 0.9981 - val_loss: 0.1080 - val_accuracy: 0.9728\n",
            "Epoch 12/50\n",
            "1125/1125 [==============================] - 10s 9ms/step - loss: 0.0089 - accuracy: 0.9971 - val_loss: 0.1211 - val_accuracy: 0.9714\n",
            "Epoch 13/50\n",
            "1125/1125 [==============================] - 11s 10ms/step - loss: 0.0081 - accuracy: 0.9967 - val_loss: 0.1142 - val_accuracy: 0.9753\n",
            "Epoch 14/50\n",
            "1125/1125 [==============================] - 11s 10ms/step - loss: 0.0045 - accuracy: 0.9983 - val_loss: 0.1166 - val_accuracy: 0.9745\n",
            "Epoch 15/50\n",
            "1125/1125 [==============================] - 11s 10ms/step - loss: 0.0028 - accuracy: 0.9993 - val_loss: 0.1383 - val_accuracy: 0.9707\n",
            "Epoch 16/50\n",
            "1125/1125 [==============================] - 10s 9ms/step - loss: 0.0093 - accuracy: 0.9965 - val_loss: 0.1300 - val_accuracy: 0.9733\n",
            "Epoch 17/50\n",
            "1125/1125 [==============================] - 11s 10ms/step - loss: 0.0045 - accuracy: 0.9983 - val_loss: 0.1125 - val_accuracy: 0.9766\n",
            "Epoch 18/50\n",
            "1125/1125 [==============================] - 11s 10ms/step - loss: 0.0058 - accuracy: 0.9980 - val_loss: 0.1508 - val_accuracy: 0.9725\n",
            "Epoch 19/50\n",
            "1125/1125 [==============================] - 11s 9ms/step - loss: 0.0071 - accuracy: 0.9976 - val_loss: 0.1206 - val_accuracy: 0.9765\n",
            "Epoch 20/50\n",
            "1125/1125 [==============================] - 10s 9ms/step - loss: 0.0043 - accuracy: 0.9984 - val_loss: 0.1237 - val_accuracy: 0.9762\n",
            "Epoch 21/50\n",
            "1125/1125 [==============================] - 11s 10ms/step - loss: 0.0033 - accuracy: 0.9988 - val_loss: 0.1358 - val_accuracy: 0.9750\n",
            "Epoch 22/50\n",
            "1125/1125 [==============================] - 12s 10ms/step - loss: 0.0061 - accuracy: 0.9978 - val_loss: 0.1437 - val_accuracy: 0.9734\n",
            "Epoch 23/50\n",
            "1125/1125 [==============================] - 12s 10ms/step - loss: 0.0039 - accuracy: 0.9983 - val_loss: 0.1303 - val_accuracy: 0.9763\n",
            "Epoch 24/50\n",
            "1125/1125 [==============================] - 10s 9ms/step - loss: 0.0059 - accuracy: 0.9980 - val_loss: 0.1530 - val_accuracy: 0.9751\n",
            "Epoch 25/50\n",
            "1125/1125 [==============================] - 11s 10ms/step - loss: 0.0028 - accuracy: 0.9990 - val_loss: 0.1442 - val_accuracy: 0.9764\n",
            "Epoch 26/50\n",
            "1125/1125 [==============================] - 11s 10ms/step - loss: 0.0066 - accuracy: 0.9976 - val_loss: 0.1630 - val_accuracy: 0.9747\n",
            "Epoch 27/50\n",
            "1125/1125 [==============================] - 12s 10ms/step - loss: 0.0035 - accuracy: 0.9986 - val_loss: 0.1765 - val_accuracy: 0.9717\n",
            "Epoch 28/50\n",
            "1125/1125 [==============================] - 10s 9ms/step - loss: 0.0031 - accuracy: 0.9991 - val_loss: 0.1734 - val_accuracy: 0.9729\n",
            "Epoch 29/50\n",
            "1125/1125 [==============================] - 11s 9ms/step - loss: 0.0034 - accuracy: 0.9987 - val_loss: 0.1592 - val_accuracy: 0.9759\n",
            "Epoch 30/50\n",
            "1125/1125 [==============================] - 12s 10ms/step - loss: 0.0049 - accuracy: 0.9982 - val_loss: 0.1556 - val_accuracy: 0.9772\n",
            "Epoch 31/50\n",
            "1125/1125 [==============================] - 12s 10ms/step - loss: 0.0027 - accuracy: 0.9989 - val_loss: 0.1661 - val_accuracy: 0.9764\n",
            "Epoch 32/50\n",
            "1125/1125 [==============================] - 11s 10ms/step - loss: 0.0012 - accuracy: 0.9995 - val_loss: 0.1670 - val_accuracy: 0.9757\n",
            "Epoch 33/50\n",
            "1125/1125 [==============================] - 10s 9ms/step - loss: 0.0048 - accuracy: 0.9984 - val_loss: 0.1877 - val_accuracy: 0.9742\n",
            "Epoch 34/50\n",
            "1125/1125 [==============================] - 10s 9ms/step - loss: 0.0051 - accuracy: 0.9985 - val_loss: 0.1836 - val_accuracy: 0.9752\n",
            "Epoch 35/50\n",
            "1125/1125 [==============================] - 10s 9ms/step - loss: 0.0035 - accuracy: 0.9988 - val_loss: 0.1637 - val_accuracy: 0.9768\n",
            "Epoch 36/50\n",
            "1125/1125 [==============================] - 10s 9ms/step - loss: 0.0036 - accuracy: 0.9987 - val_loss: 0.1724 - val_accuracy: 0.9758\n",
            "Epoch 37/50\n",
            "1125/1125 [==============================] - 11s 9ms/step - loss: 0.0028 - accuracy: 0.9991 - val_loss: 0.1967 - val_accuracy: 0.9737\n",
            "Epoch 38/50\n",
            "1125/1125 [==============================] - 11s 9ms/step - loss: 0.0033 - accuracy: 0.9988 - val_loss: 0.1682 - val_accuracy: 0.9771\n",
            "Epoch 39/50\n",
            "1125/1125 [==============================] - 11s 10ms/step - loss: 0.0020 - accuracy: 0.9994 - val_loss: 0.1768 - val_accuracy: 0.9761\n",
            "Epoch 40/50\n",
            "1125/1125 [==============================] - 10s 9ms/step - loss: 0.0027 - accuracy: 0.9989 - val_loss: 0.2245 - val_accuracy: 0.9719\n",
            "Epoch 41/50\n",
            "1125/1125 [==============================] - 11s 10ms/step - loss: 0.0057 - accuracy: 0.9979 - val_loss: 0.1898 - val_accuracy: 0.9760\n",
            "Epoch 42/50\n",
            "1125/1125 [==============================] - 11s 10ms/step - loss: 0.0013 - accuracy: 0.9995 - val_loss: 0.1940 - val_accuracy: 0.9756\n",
            "Epoch 43/50\n",
            "1125/1125 [==============================] - 11s 10ms/step - loss: 0.0012 - accuracy: 0.9996 - val_loss: 0.2031 - val_accuracy: 0.9748\n",
            "Epoch 44/50\n",
            "1125/1125 [==============================] - 10s 9ms/step - loss: 0.0053 - accuracy: 0.9984 - val_loss: 0.1934 - val_accuracy: 0.9768\n",
            "Epoch 45/50\n",
            "1125/1125 [==============================] - 11s 10ms/step - loss: 0.0036 - accuracy: 0.9991 - val_loss: 0.2133 - val_accuracy: 0.9743\n",
            "Epoch 46/50\n",
            "1125/1125 [==============================] - 12s 10ms/step - loss: 0.0037 - accuracy: 0.9986 - val_loss: 0.2113 - val_accuracy: 0.9740\n",
            "Epoch 47/50\n",
            "1125/1125 [==============================] - 11s 10ms/step - loss: 0.0020 - accuracy: 0.9995 - val_loss: 0.1978 - val_accuracy: 0.9756\n",
            "Epoch 48/50\n",
            "1125/1125 [==============================] - 11s 9ms/step - loss: 0.0026 - accuracy: 0.9988 - val_loss: 0.2205 - val_accuracy: 0.9757\n",
            "Epoch 49/50\n",
            "1125/1125 [==============================] - 12s 11ms/step - loss: 0.0038 - accuracy: 0.9987 - val_loss: 0.2006 - val_accuracy: 0.9761\n",
            "Epoch 50/50\n",
            "1125/1125 [==============================] - 12s 10ms/step - loss: 0.0012 - accuracy: 0.9996 - val_loss: 0.1983 - val_accuracy: 0.9778\n"
          ]
        }
      ],
      "source": [
        "# Build the model with the optimal hyperparameters and train it on the data for 50 epochs\n",
        "hypermodel = tuner.hypermodel.build(best_hps)\n",
        "\n",
        "fit_start = t.time()\n",
        "\n",
        "history = hypermodel.fit(img_train, label_train, epochs=50, validation_split=0.4)"
      ]
    },
    {
      "cell_type": "code",
      "source": [
        "fit_end = t.time()\n",
        "fit_duration = (fit_end - fit_start)/60\n",
        "\n",
        "print(f\"Training duration: {fit_duration:.2f} minutes \")"
      ],
      "metadata": {
        "colab": {
          "base_uri": "https://localhost:8080/"
        },
        "id": "I6O_rAyT-3E5",
        "outputId": "44d5d5bf-a956-4c6c-f70b-9bfb88c8e809"
      },
      "execution_count": null,
      "outputs": [
        {
          "output_type": "stream",
          "name": "stdout",
          "text": [
            "Training duration: 9.38 minutes \n"
          ]
        }
      ]
    },
    {
      "cell_type": "code",
      "source": [
        "from matplotlib import pyplot as plt\n",
        "\n",
        "x_axis = [x for x in range(50)]\n",
        "y_axis = history.history['val_accuracy']\n",
        "y3 = history.history['val_loss']\n",
        "plt.plot(x_axis, y_axis, x_axis,y3)\n",
        "plt.xlabel('Epochs ',fontsize=12)\n",
        "plt.legend(['Val Acc', 'Val Loss'],fontsize=12)\n",
        "plt.title('Accuracy and Loss Curves',fontsize=14)"
      ],
      "metadata": {
        "id": "J9Cy6iTZRs8O",
        "outputId": "d9d7c986-022c-4ac4-b5af-f6e2cdd5b522",
        "colab": {
          "base_uri": "https://localhost:8080/",
          "height": 495
        }
      },
      "execution_count": null,
      "outputs": [
        {
          "output_type": "execute_result",
          "data": {
            "text/plain": [
              "Text(0.5, 1.0, 'Accuracy and Loss Curves')"
            ]
          },
          "metadata": {},
          "execution_count": 14
        },
        {
          "output_type": "display_data",
          "data": {
            "text/plain": [
              "<Figure size 640x480 with 1 Axes>"
            ],
            "image/png": "[encoded data removed]"
          },
          "metadata": {}
        }
      ]
    },
    {
      "cell_type": "code",
      "execution_count": null,
      "metadata": {
        "id": "9E0BTp9Ealjb",
        "colab": {
          "base_uri": "https://localhost:8080/"
        },
        "outputId": "2d34e0f4-c038-4bb2-f483-e7f74861aa4b"
      },
      "outputs": [
        {
          "output_type": "stream",
          "name": "stdout",
          "text": [
            "313/313 [==============================] - 1s 3ms/step - loss: 0.1450 - accuracy: 0.9813\n"
          ]
        }
      ],
      "source": [
        "eval_result = hypermodel.evaluate(img_test, label_test)"
      ]
    },
    {
      "cell_type": "code",
      "source": [
        "print(\"------------ SUMMARY ------------\\n\")\n",
        "print(f\"*Best Hyperparameters found:\")\n",
        "for key, value in best_hps.values.items():\n",
        " print(key,\":\",value)\n",
        "print(f'\\n*Hypermodel Evaluation:\\nTest loss: {100*eval_result[0]:.2f} %\\nTest accuracy: {100*eval_result[1]:.2f} %')\n",
        "print(f\"\\n*Execution times:\\nHyperparameter searching time: {search_duration:.2f} minutes \\nHypermodel training time: {fit_duration:.2f} minutes\")"
      ],
      "metadata": {
        "colab": {
          "base_uri": "https://localhost:8080/"
        },
        "id": "Rc48QTQdEWhx",
        "outputId": "7fcb5b7d-9dde-4c8d-b971-09790edac5ef"
      },
      "execution_count": null,
      "outputs": [
        {
          "output_type": "stream",
          "name": "stdout",
          "text": [
            "------------ SUMMARY ------------\n",
            "\n",
            "*Best Hyperparameters found:\n",
            "units : 512\n",
            "learning_rate : 0.001\n",
            "loss_wgt1 : 0.9\n",
            "loss_wgt2 : 0.0\n",
            "\n",
            "*Hypermodel Evaluation:\n",
            "Test loss: 14.50 %\n",
            "Test accuracy: 98.13 %\n",
            "\n",
            "*Execution times:\n",
            "Hyperparameter searching time: 38.68 minutes \n",
            "Hypermodel training time: 9.38 minutes\n"
          ]
        }
      ]
    }
  ],
  "metadata": {
    "accelerator": "GPU",
    "colab": {
      "provenance": [],
      "include_colab_link": true
    },
    "kernelspec": {
      "display_name": "Python 3",
      "name": "python3"
    }
  },
  "nbformat": 4,
  "nbformat_minor": 0
}
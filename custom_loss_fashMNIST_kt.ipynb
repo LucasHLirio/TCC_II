{
  "cells": [
    {
      "cell_type": "markdown",
      "metadata": {
        "id": "view-in-github",
        "colab_type": "text"
      },
      "source": [
        "<a href=\"https://colab.research.google.com/github/LucasHLirio/TCC_II/blob/main/custom_loss_fashMNIST_kt.ipynb\" target=\"_parent\"><img src=\"https://colab.research.google.com/assets/colab-badge.svg\" alt=\"Open In Colab\"/></a>"
      ]
    },
    {
      "cell_type": "markdown",
      "metadata": {
        "id": "MUXex9ctTuDB"
      },
      "source": [
        "## Setup"
      ]
    },
    {
      "cell_type": "code",
      "execution_count": null,
      "metadata": {
        "id": "IqR2PQG4ZaZ0"
      },
      "outputs": [],
      "source": [
        "import tensorflow as tf\n",
        "from tensorflow import keras"
      ]
    },
    {
      "cell_type": "markdown",
      "metadata": {
        "id": "g83Lwsy-Aq2_"
      },
      "source": [
        "Install and import the Keras Tuner."
      ]
    },
    {
      "cell_type": "code",
      "execution_count": null,
      "metadata": {
        "id": "hpMLpbt9jcO6",
        "colab": {
          "base_uri": "https://localhost:8080/"
        },
        "outputId": "e609d8fa-31bd-46f3-ffb0-2c9554c49c08"
      },
      "outputs": [
        {
          "output_type": "stream",
          "name": "stdout",
          "text": [
            "\u001b[?25l     \u001b[90m━━━━━━━━━━━━━━━━━━━━━━━━━━━━━━━━━━━━━━━━\u001b[0m \u001b[32m0.0/128.9 kB\u001b[0m \u001b[31m?\u001b[0m eta \u001b[36m-:--:--\u001b[0m\r\u001b[2K     \u001b[91m━━━━━━━━━━━━━━━━━━━━━━━━━━━━━━━━━━\u001b[0m\u001b[91m╸\u001b[0m\u001b[90m━━━━━\u001b[0m \u001b[32m112.6/128.9 kB\u001b[0m \u001b[31m3.1 MB/s\u001b[0m eta \u001b[36m0:00:01\u001b[0m\r\u001b[2K     \u001b[90m━━━━━━━━━━━━━━━━━━━━━━━━━━━━━━━━━━━━━━━━\u001b[0m \u001b[32m128.9/128.9 kB\u001b[0m \u001b[31m2.7 MB/s\u001b[0m eta \u001b[36m0:00:00\u001b[0m\n",
            "\u001b[?25h"
          ]
        }
      ],
      "source": [
        "!pip install -q -U keras-tuner"
      ]
    },
    {
      "cell_type": "code",
      "execution_count": null,
      "metadata": {
        "id": "_leAIdFKAxAD"
      },
      "outputs": [],
      "source": [
        "import keras_tuner as kt"
      ]
    },
    {
      "cell_type": "markdown",
      "metadata": {
        "id": "ReV_UXOgCZvx"
      },
      "source": [
        "## Download and prepare the dataset\n"
      ]
    },
    {
      "cell_type": "code",
      "execution_count": null,
      "metadata": {
        "id": "OHlHs9Wj_PUM",
        "colab": {
          "base_uri": "https://localhost:8080/"
        },
        "outputId": "74efa3e0-0db4-4ba2-e8bf-64c84483a8e2"
      },
      "outputs": [
        {
          "output_type": "stream",
          "name": "stdout",
          "text": [
            "Downloading data from https://storage.googleapis.com/tensorflow/tf-keras-datasets/train-labels-idx1-ubyte.gz\n",
            "29515/29515 [==============================] - 0s 0us/step\n",
            "Downloading data from https://storage.googleapis.com/tensorflow/tf-keras-datasets/train-images-idx3-ubyte.gz\n",
            "26421880/26421880 [==============================] - 0s 0us/step\n",
            "Downloading data from https://storage.googleapis.com/tensorflow/tf-keras-datasets/t10k-labels-idx1-ubyte.gz\n",
            "5148/5148 [==============================] - 0s 0us/step\n",
            "Downloading data from https://storage.googleapis.com/tensorflow/tf-keras-datasets/t10k-images-idx3-ubyte.gz\n",
            "4422102/4422102 [==============================] - 0s 0us/step\n"
          ]
        }
      ],
      "source": [
        "(img_train, label_train), (img_test, label_test) = keras.datasets.fashion_mnist.load_data()"
      ]
    },
    {
      "cell_type": "code",
      "execution_count": null,
      "metadata": {
        "id": "bLVhXs3xrUD0"
      },
      "outputs": [],
      "source": [
        "from keras.utils import to_categorical\n",
        "\n",
        "# Normalize pixel values between 0 and 1\n",
        "img_train = img_train.astype('float32') / 255.0\n",
        "img_test = img_test.astype('float32') / 255.0\n",
        "\n",
        "# One-hot encode labels for categorical crossentropy function\n",
        "label_train = to_categorical(label_train, num_classes=10)\n",
        "label_test = to_categorical(label_test, num_classes=10)"
      ]
    },
    {
      "cell_type": "markdown",
      "source": [
        "## Creating custom loss function"
      ],
      "metadata": {
        "id": "shwwOOx1GC8k"
      }
    },
    {
      "cell_type": "code",
      "source": [
        "from keras import losses\n",
        "class ChebyshevLoss(losses.Loss):\n",
        "    def __init__(self, ideal_loss_point, weights, name=\"chebyshev_loss\"):\n",
        "        super().__init__(name=name)\n",
        "        self.ideal_loss_point = ideal_loss_point\n",
        "        self.weights = weights\n",
        "\n",
        "    def call(self, y_true, y_pred):\n",
        "        # Calculates cross entropy loss (error)\n",
        "        error_loss = tf.keras.losses.categorical_crossentropy(y_true, y_pred, from_logits=True)\n",
        "\n",
        "        # Calculates L2 regularization (complexity)\n",
        "        l2_loss = tf.add_n([tf.nn.l2_loss(weight) for weight in self.model.trainable_weights])\n",
        "\n",
        "        # Chebyshev Scalarization involves maximizing the minimum of weights\n",
        "        # Chebyshev loss is essentially the largest weighted difference of each objective to the ideal points\n",
        "        weighted_error_diff = self.weights[0] * (error_loss - self.ideal_loss_point[0])\n",
        "        weighted_l2_diff = self.weights[1] * (l2_loss - self.ideal_loss_point[1])\n",
        "\n",
        "        # Combining the loss components following the Chebyshev criterion\n",
        "        chebyshev_loss = tf.maximum(weighted_error_diff, weighted_l2_diff)\n",
        "\n",
        "        return chebyshev_loss\n",
        "\n",
        "    def get_config(self):\n",
        "        config = super(ChebyshevLoss, self).get_config()\n",
        "        config.update({\n",
        "            \"ideal_loss_point\": self.ideal_loss_point,\n",
        "            \"weights\": self.weights\n",
        "        })\n",
        "        return config"
      ],
      "metadata": {
        "id": "jR7U6FYOUJjQ"
      },
      "execution_count": null,
      "outputs": []
    },
    {
      "cell_type": "markdown",
      "metadata": {
        "id": "K5YEL2H2Ax3e"
      },
      "source": [
        "## Define the model\n"
      ]
    },
    {
      "cell_type": "code",
      "execution_count": null,
      "metadata": {
        "id": "ZQKodC-jtsva"
      },
      "outputs": [],
      "source": [
        "def model_builder(hp):\n",
        "\n",
        "  # model hps\n",
        "  hp_units = hp.Int('units', min_value=32, max_value=512, step=32)\n",
        "  hp_learning_rate = hp.Choice('learning_rate', values=[1e-1,1e-2,1e-3])\n",
        "\n",
        "  #model structure\n",
        "  model = keras.Sequential()\n",
        "  model.add(keras.layers.Flatten(input_shape=(28, 28)))\n",
        "  model.add(keras.layers.Dense(units=hp_units, activation='relu'))\n",
        "  model.add(keras.layers.Dense(10))\n",
        "\n",
        "  #loss function hps\n",
        "  hp_wheights1 = hp.Float('loss_wgt1', min_value=0.0, max_value=1.0, step=0.1)\n",
        "  hp_wheights2 = hp.Float('loss_wgt2', min_value=0.0, max_value=0.1, step=0.01)\n",
        "\n",
        "  ideal_loss_point = (0.0, 0.0)\n",
        "  weights=(hp_wheights1, hp_wheights2)\n",
        "\n",
        "  custom_loss_cheb = ChebyshevLoss(ideal_loss_point=ideal_loss_point, weights=weights)\n",
        "  custom_loss_cheb.model = model # associates a model to the loss function\n",
        "\n",
        "  model.compile(optimizer=keras.optimizers.Adam(learning_rate=hp_learning_rate),\n",
        "                loss=custom_loss_cheb,\n",
        "                metrics=['accuracy'])\n",
        "\n",
        "  return model"
      ]
    },
    {
      "cell_type": "markdown",
      "metadata": {
        "id": "0J1VYw4q3x0b"
      },
      "source": [
        "## Instantiate the tuner and perform hypertuning"
      ]
    },
    {
      "cell_type": "code",
      "execution_count": null,
      "metadata": {
        "id": "oichQFly6Y46"
      },
      "outputs": [],
      "source": [
        "tuner = kt.BayesianOptimization(\n",
        "    model_builder,\n",
        "    objective='val_accuracy',\n",
        "    max_trials=50,\n",
        "    overwrite=True) #overwrites a saved project"
      ]
    },
    {
      "cell_type": "markdown",
      "metadata": {
        "id": "cwhBdXx0Ekj8"
      },
      "source": [
        "Create a callback to stop training early after reaching a certain value for the validation loss."
      ]
    },
    {
      "cell_type": "code",
      "execution_count": null,
      "metadata": {
        "id": "WT9IkS9NEjLc"
      },
      "outputs": [],
      "source": [
        "stop_early = tf.keras.callbacks.EarlyStopping(monitor='val_loss', patience=5)"
      ]
    },
    {
      "cell_type": "markdown",
      "metadata": {
        "id": "UKghEo15Tduy"
      },
      "source": [
        "Run the hyperparameter search"
      ]
    },
    {
      "cell_type": "code",
      "source": [
        "import time as t\n",
        "search_start = t.time()\n",
        "\n",
        "tuner.search(img_train, label_train, epochs=10, validation_split=0.4, callbacks=[stop_early])"
      ],
      "metadata": {
        "colab": {
          "base_uri": "https://localhost:8080/"
        },
        "id": "32qIW0Gf4frR",
        "outputId": "88d5b291-3ce6-4384-ffe8-1be406848053"
      },
      "execution_count": null,
      "outputs": [
        {
          "output_type": "stream",
          "name": "stdout",
          "text": [
            "Trial 50 Complete [00h 01m 23s]\n",
            "val_accuracy: 0.8869166374206543\n",
            "\n",
            "Best val_accuracy So Far: 0.8916666507720947\n",
            "Total elapsed time: 01h 04m 10s\n"
          ]
        }
      ]
    },
    {
      "cell_type": "code",
      "execution_count": null,
      "metadata": {
        "id": "dSBQcTHF9cKt",
        "colab": {
          "base_uri": "https://localhost:8080/"
        },
        "outputId": "6f24d2df-2e9a-45f3-e012-63e0e3e15f8a"
      },
      "outputs": [
        {
          "output_type": "stream",
          "name": "stdout",
          "text": [
            "Search duration: 64.17 minutes \n"
          ]
        }
      ],
      "source": [
        "search_end = t.time()\n",
        "search_duration = (search_end - search_start)/60\n",
        "\n",
        "# Get the optimal hyperparameters\n",
        "best_hps=tuner.get_best_hyperparameters(num_trials=1)[0]\n",
        "\n",
        "print(f\"Search duration: {search_duration:.2f} minutes \")"
      ]
    },
    {
      "cell_type": "markdown",
      "metadata": {
        "id": "Lak_ylf88xBv"
      },
      "source": [
        "## Train the model\n"
      ]
    },
    {
      "cell_type": "code",
      "execution_count": null,
      "metadata": {
        "id": "McO82AXOuxXh",
        "colab": {
          "base_uri": "https://localhost:8080/"
        },
        "outputId": "21ae1fe3-da72-420f-d76e-006db63c6cff"
      },
      "outputs": [
        {
          "output_type": "stream",
          "name": "stdout",
          "text": [
            "Epoch 1/50\n",
            "1125/1125 [==============================] - 10s 8ms/step - loss: 0.2625 - accuracy: 0.8133 - val_loss: 0.2182 - val_accuracy: 0.8467\n",
            "Epoch 2/50\n",
            "1125/1125 [==============================] - 10s 9ms/step - loss: 0.1960 - accuracy: 0.8571 - val_loss: 0.2001 - val_accuracy: 0.8565\n",
            "Epoch 3/50\n",
            "1125/1125 [==============================] - 10s 9ms/step - loss: 0.1732 - accuracy: 0.8714 - val_loss: 0.1806 - val_accuracy: 0.8710\n",
            "Epoch 4/50\n",
            "1125/1125 [==============================] - 9s 8ms/step - loss: 0.1585 - accuracy: 0.8806 - val_loss: 0.1692 - val_accuracy: 0.8777\n",
            "Epoch 5/50\n",
            "1125/1125 [==============================] - 8s 7ms/step - loss: 0.1487 - accuracy: 0.8891 - val_loss: 0.1772 - val_accuracy: 0.8733\n",
            "Epoch 6/50\n",
            "1125/1125 [==============================] - 11s 9ms/step - loss: 0.1418 - accuracy: 0.8939 - val_loss: 0.1621 - val_accuracy: 0.8851\n",
            "Epoch 7/50\n",
            "1125/1125 [==============================] - 10s 9ms/step - loss: 0.1328 - accuracy: 0.8998 - val_loss: 0.1700 - val_accuracy: 0.8794\n",
            "Epoch 8/50\n",
            "1125/1125 [==============================] - 9s 8ms/step - loss: 0.1271 - accuracy: 0.9048 - val_loss: 0.1642 - val_accuracy: 0.8848\n",
            "Epoch 9/50\n",
            "1125/1125 [==============================] - 9s 8ms/step - loss: 0.1208 - accuracy: 0.9084 - val_loss: 0.1815 - val_accuracy: 0.8753\n",
            "Epoch 10/50\n",
            "1125/1125 [==============================] - 10s 9ms/step - loss: 0.1149 - accuracy: 0.9125 - val_loss: 0.1673 - val_accuracy: 0.8845\n",
            "Epoch 11/50\n",
            "1125/1125 [==============================] - 9s 8ms/step - loss: 0.1110 - accuracy: 0.9173 - val_loss: 0.1592 - val_accuracy: 0.8904\n",
            "Epoch 12/50\n",
            "1125/1125 [==============================] - 10s 9ms/step - loss: 0.1059 - accuracy: 0.9216 - val_loss: 0.1593 - val_accuracy: 0.8923\n",
            "Epoch 13/50\n",
            "1125/1125 [==============================] - 9s 8ms/step - loss: 0.1034 - accuracy: 0.9218 - val_loss: 0.1644 - val_accuracy: 0.8873\n",
            "Epoch 14/50\n",
            "1125/1125 [==============================] - 8s 7ms/step - loss: 0.0983 - accuracy: 0.9273 - val_loss: 0.1802 - val_accuracy: 0.8805\n",
            "Epoch 15/50\n",
            "1125/1125 [==============================] - 9s 8ms/step - loss: 0.0941 - accuracy: 0.9280 - val_loss: 0.1668 - val_accuracy: 0.8935\n",
            "Epoch 16/50\n",
            "1125/1125 [==============================] - 9s 8ms/step - loss: 0.0919 - accuracy: 0.9317 - val_loss: 0.1664 - val_accuracy: 0.8921\n",
            "Epoch 17/50\n",
            "1125/1125 [==============================] - 8s 7ms/step - loss: 0.0881 - accuracy: 0.9336 - val_loss: 0.1668 - val_accuracy: 0.8942\n",
            "Epoch 18/50\n",
            "1125/1125 [==============================] - 11s 9ms/step - loss: 0.0857 - accuracy: 0.9365 - val_loss: 0.1746 - val_accuracy: 0.8876\n",
            "Epoch 19/50\n",
            "1125/1125 [==============================] - 10s 9ms/step - loss: 0.0820 - accuracy: 0.9387 - val_loss: 0.1710 - val_accuracy: 0.8920\n",
            "Epoch 20/50\n",
            "1125/1125 [==============================] - 8s 7ms/step - loss: 0.0804 - accuracy: 0.9389 - val_loss: 0.1811 - val_accuracy: 0.8889\n",
            "Epoch 21/50\n",
            "1125/1125 [==============================] - 10s 9ms/step - loss: 0.0779 - accuracy: 0.9407 - val_loss: 0.1805 - val_accuracy: 0.8925\n",
            "Epoch 22/50\n",
            "1125/1125 [==============================] - 10s 9ms/step - loss: 0.0737 - accuracy: 0.9449 - val_loss: 0.1799 - val_accuracy: 0.8902\n",
            "Epoch 23/50\n",
            "1125/1125 [==============================] - 8s 7ms/step - loss: 0.0729 - accuracy: 0.9453 - val_loss: 0.1770 - val_accuracy: 0.8967\n",
            "Epoch 24/50\n",
            "1125/1125 [==============================] - 11s 9ms/step - loss: 0.0704 - accuracy: 0.9461 - val_loss: 0.1824 - val_accuracy: 0.8945\n",
            "Epoch 25/50\n",
            "1125/1125 [==============================] - 10s 9ms/step - loss: 0.0692 - accuracy: 0.9487 - val_loss: 0.1825 - val_accuracy: 0.8954\n",
            "Epoch 26/50\n",
            "1125/1125 [==============================] - 9s 8ms/step - loss: 0.0668 - accuracy: 0.9494 - val_loss: 0.1891 - val_accuracy: 0.8945\n",
            "Epoch 27/50\n",
            "1125/1125 [==============================] - 10s 9ms/step - loss: 0.0668 - accuracy: 0.9499 - val_loss: 0.1905 - val_accuracy: 0.8960\n",
            "Epoch 28/50\n",
            "1125/1125 [==============================] - 11s 10ms/step - loss: 0.0615 - accuracy: 0.9531 - val_loss: 0.1941 - val_accuracy: 0.8923\n",
            "Epoch 29/50\n",
            "1125/1125 [==============================] - 10s 9ms/step - loss: 0.0609 - accuracy: 0.9549 - val_loss: 0.1935 - val_accuracy: 0.8949\n",
            "Epoch 30/50\n",
            "1125/1125 [==============================] - 8s 7ms/step - loss: 0.0583 - accuracy: 0.9556 - val_loss: 0.2170 - val_accuracy: 0.8842\n",
            "Epoch 31/50\n",
            "1125/1125 [==============================] - 9s 8ms/step - loss: 0.0572 - accuracy: 0.9571 - val_loss: 0.2004 - val_accuracy: 0.8912\n",
            "Epoch 32/50\n",
            "1125/1125 [==============================] - 10s 9ms/step - loss: 0.0583 - accuracy: 0.9572 - val_loss: 0.2063 - val_accuracy: 0.8950\n",
            "Epoch 33/50\n",
            "1125/1125 [==============================] - 9s 8ms/step - loss: 0.0545 - accuracy: 0.9580 - val_loss: 0.2091 - val_accuracy: 0.8920\n",
            "Epoch 34/50\n",
            "1125/1125 [==============================] - 11s 9ms/step - loss: 0.0523 - accuracy: 0.9610 - val_loss: 0.2060 - val_accuracy: 0.8929\n",
            "Epoch 35/50\n",
            "1125/1125 [==============================] - 10s 9ms/step - loss: 0.0519 - accuracy: 0.9606 - val_loss: 0.2078 - val_accuracy: 0.8911\n",
            "Epoch 36/50\n",
            "1125/1125 [==============================] - 8s 7ms/step - loss: 0.0503 - accuracy: 0.9618 - val_loss: 0.2178 - val_accuracy: 0.8893\n",
            "Epoch 37/50\n",
            "1125/1125 [==============================] - 11s 9ms/step - loss: 0.0491 - accuracy: 0.9632 - val_loss: 0.2134 - val_accuracy: 0.8953\n",
            "Epoch 38/50\n",
            "1125/1125 [==============================] - 10s 9ms/step - loss: 0.0484 - accuracy: 0.9639 - val_loss: 0.2279 - val_accuracy: 0.8921\n",
            "Epoch 39/50\n",
            "1125/1125 [==============================] - 8s 7ms/step - loss: 0.0450 - accuracy: 0.9662 - val_loss: 0.2486 - val_accuracy: 0.8893\n",
            "Epoch 40/50\n",
            "1125/1125 [==============================] - 9s 8ms/step - loss: 0.0449 - accuracy: 0.9657 - val_loss: 0.2397 - val_accuracy: 0.8899\n",
            "Epoch 41/50\n",
            "1125/1125 [==============================] - 10s 9ms/step - loss: 0.0454 - accuracy: 0.9656 - val_loss: 0.2306 - val_accuracy: 0.8944\n",
            "Epoch 42/50\n",
            "1125/1125 [==============================] - 9s 8ms/step - loss: 0.0418 - accuracy: 0.9682 - val_loss: 0.2417 - val_accuracy: 0.8920\n",
            "Epoch 43/50\n",
            "1125/1125 [==============================] - 9s 8ms/step - loss: 0.0431 - accuracy: 0.9687 - val_loss: 0.2484 - val_accuracy: 0.8891\n",
            "Epoch 44/50\n",
            "1125/1125 [==============================] - 11s 10ms/step - loss: 0.0410 - accuracy: 0.9691 - val_loss: 0.2483 - val_accuracy: 0.8902\n",
            "Epoch 45/50\n",
            "1125/1125 [==============================] - 9s 8ms/step - loss: 0.0393 - accuracy: 0.9700 - val_loss: 0.2493 - val_accuracy: 0.8915\n",
            "Epoch 46/50\n",
            "1125/1125 [==============================] - 9s 8ms/step - loss: 0.0409 - accuracy: 0.9699 - val_loss: 0.2576 - val_accuracy: 0.8875\n",
            "Epoch 47/50\n",
            "1125/1125 [==============================] - 10s 9ms/step - loss: 0.0372 - accuracy: 0.9722 - val_loss: 0.2518 - val_accuracy: 0.8917\n",
            "Epoch 48/50\n",
            "1125/1125 [==============================] - 9s 8ms/step - loss: 0.0365 - accuracy: 0.9730 - val_loss: 0.2754 - val_accuracy: 0.8902\n",
            "Epoch 49/50\n",
            "1125/1125 [==============================] - 8s 7ms/step - loss: 0.0382 - accuracy: 0.9714 - val_loss: 0.2676 - val_accuracy: 0.8888\n",
            "Epoch 50/50\n",
            "1125/1125 [==============================] - 11s 9ms/step - loss: 0.0347 - accuracy: 0.9736 - val_loss: 0.2590 - val_accuracy: 0.8940\n"
          ]
        }
      ],
      "source": [
        "# Build the model with the optimal hyperparameters and train it on the data for 50 epochs\n",
        "hypermodel = tuner.hypermodel.build(best_hps)\n",
        "\n",
        "fit_start = t.time()\n",
        "\n",
        "history = hypermodel.fit(img_train, label_train, epochs=50, validation_split=0.4)"
      ]
    },
    {
      "cell_type": "code",
      "source": [
        "fit_end = t.time()\n",
        "fit_duration = (fit_end - fit_start)/60\n",
        "\n",
        "print(f\"Training duration: {fit_duration:.2f} minutes \")"
      ],
      "metadata": {
        "colab": {
          "base_uri": "https://localhost:8080/"
        },
        "id": "I6O_rAyT-3E5",
        "outputId": "4dafec5d-bbe0-46b2-eed2-b8a838bf3a7a"
      },
      "execution_count": null,
      "outputs": [
        {
          "output_type": "stream",
          "name": "stdout",
          "text": [
            "Training duration: 7.95 minutes \n"
          ]
        }
      ]
    },
    {
      "cell_type": "code",
      "source": [
        "from matplotlib import pyplot as plt\n",
        "\n",
        "x_axis = [x for x in range(50)]\n",
        "y_axis = history.history['val_accuracy']\n",
        "y3 = history.history['val_loss']\n",
        "plt.plot(x_axis, y_axis, x_axis,y3)\n",
        "plt.xlabel('Epochs ',fontsize=12)\n",
        "plt.legend(['Val Acc', 'Val Loss'],fontsize=12)\n",
        "plt.title('Accuracy and Loss Curves',fontsize=14)"
      ],
      "metadata": {
        "id": "J9Cy6iTZRs8O",
        "outputId": "9c70a7dd-eb23-4ec2-a1dd-c33d01859e14",
        "colab": {
          "base_uri": "https://localhost:8080/",
          "height": 494
        }
      },
      "execution_count": null,
      "outputs": [
        {
          "output_type": "execute_result",
          "data": {
            "text/plain": [
              "Text(0.5, 1.0, 'Accuracy and Loss Curves')"
            ]
          },
          "metadata": {},
          "execution_count": 14
        },
        {
          "output_type": "display_data",
          "data": {
            "text/plain": [
              "<Figure size 640x480 with 1 Axes>"
            ],
            "image/png": "[encoded data removed]"
          },
          "metadata": {}
        }
      ]
    },
    {
      "cell_type": "code",
      "execution_count": null,
      "metadata": {
        "id": "9E0BTp9Ealjb",
        "colab": {
          "base_uri": "https://localhost:8080/"
        },
        "outputId": "365696ce-4435-4059-d732-bdeffe022422"
      },
      "outputs": [
        {
          "output_type": "stream",
          "name": "stdout",
          "text": [
            "313/313 [==============================] - 1s 2ms/step - loss: 0.2839 - accuracy: 0.8851\n"
          ]
        }
      ],
      "source": [
        "eval_result = hypermodel.evaluate(img_test, label_test)"
      ]
    },
    {
      "cell_type": "code",
      "source": [
        "print(\"------------ SUMMARY ------------\\n\")\n",
        "print(f\"*Best Hyperparameters found:\")\n",
        "for key, value in best_hps.values.items():\n",
        " print(key,\":\",value)\n",
        "print(f'\\n*Hypermodel Evaluation:\\nTest loss: {100*eval_result[0]:.2f} %\\nTest accuracy: {100*eval_result[1]:.2f} %')\n",
        "print(f\"\\n*Execution times:\\nHyperparameter searching time: {search_duration:.2f} minutes \\nHypermodel training time: {fit_duration:.2f} minutes\")"
      ],
      "metadata": {
        "colab": {
          "base_uri": "https://localhost:8080/"
        },
        "id": "Rc48QTQdEWhx",
        "outputId": "ed208cd5-8c97-4e8f-82cb-df62f1c316ca"
      },
      "execution_count": null,
      "outputs": [
        {
          "output_type": "stream",
          "name": "stdout",
          "text": [
            "------------ SUMMARY ------------\n",
            "\n",
            "*Best Hyperparameters found:\n",
            "units : 384\n",
            "learning_rate : 0.001\n",
            "loss_wgt1 : 0.5\n",
            "loss_wgt2 : 0.0\n",
            "\n",
            "*Hypermodel Evaluation:\n",
            "Test loss: 28.39 %\n",
            "Test accuracy: 88.51 %\n",
            "\n",
            "*Execution times:\n",
            "Hyperparameter searching time: 64.17 minutes \n",
            "Hypermodel training time: 7.95 minutes\n"
          ]
        }
      ]
    }
  ],
  "metadata": {
    "accelerator": "GPU",
    "colab": {
      "provenance": [],
      "include_colab_link": true
    },
    "kernelspec": {
      "display_name": "Python 3",
      "name": "python3"
    }
  },
  "nbformat": 4,
  "nbformat_minor": 0
}
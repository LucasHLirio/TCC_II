{
  "cells": [
    {
      "cell_type": "markdown",
      "metadata": {
        "id": "view-in-github",
        "colab_type": "text"
      },
      "source": [
        "<a href=\"https://colab.research.google.com/github/LucasHLirio/TCC_II/blob/main/chebloss_CNN_BO_fashMNIST_keras_tuner.ipynb\" target=\"_parent\"><img src=\"https://colab.research.google.com/assets/colab-badge.svg\" alt=\"Open In Colab\"/></a>"
      ]
    },
    {
      "cell_type": "markdown",
      "metadata": {
        "id": "MUXex9ctTuDB"
      },
      "source": [
        "## Setup"
      ]
    },
    {
      "cell_type": "markdown",
      "metadata": {
        "id": "g83Lwsy-Aq2_"
      },
      "source": [
        "Install and import the Keras Tuner:"
      ]
    },
    {
      "cell_type": "code",
      "execution_count": 1,
      "metadata": {
        "id": "IqR2PQG4ZaZ0",
        "colab": {
          "base_uri": "https://localhost:8080/"
        },
        "outputId": "b0909cc9-5d55-492b-8294-ff32dfd8d024"
      },
      "outputs": [
        {
          "output_type": "stream",
          "name": "stdout",
          "text": [
            "\u001b[?25l     \u001b[90m━━━━━━━━━━━━━━━━━━━━━━━━━━━━━━━━━━━━━━━━\u001b[0m \u001b[32m0.0/128.9 kB\u001b[0m \u001b[31m?\u001b[0m eta \u001b[36m-:--:--\u001b[0m\r\u001b[2K     \u001b[91m━━━━━━━━━\u001b[0m\u001b[91m╸\u001b[0m\u001b[90m━━━━━━━━━━━━━━━━━━━━━━━━━━━━━━\u001b[0m \u001b[32m30.7/128.9 kB\u001b[0m \u001b[31m831.8 kB/s\u001b[0m eta \u001b[36m0:00:01\u001b[0m\r\u001b[2K     \u001b[91m━━━━━━━━━━━━━━━━━━━━━━━━━\u001b[0m\u001b[90m╺\u001b[0m\u001b[90m━━━━━━━━━━━━━━\u001b[0m \u001b[32m81.9/128.9 kB\u001b[0m \u001b[31m1.1 MB/s\u001b[0m eta \u001b[36m0:00:01\u001b[0m\r\u001b[2K     \u001b[90m━━━━━━━━━━━━━━━━━━━━━━━━━━━━━━━━━━━━━━━━\u001b[0m \u001b[32m128.9/128.9 kB\u001b[0m \u001b[31m1.2 MB/s\u001b[0m eta \u001b[36m0:00:00\u001b[0m\n",
            "\u001b[?25h"
          ]
        }
      ],
      "source": [
        "import tensorflow as tf\n",
        "from tensorflow import keras\n",
        "\n",
        "!pip install -q -U keras-tuner\n",
        "import keras_tuner as kt"
      ]
    },
    {
      "cell_type": "markdown",
      "source": [
        "Test the GPU"
      ],
      "metadata": {
        "id": "iwS7QC07B5n5"
      }
    },
    {
      "cell_type": "code",
      "source": [
        "device_name = tf.test.gpu_device_name()\n",
        "if device_name != '/device:GPU:0':\n",
        "  raise SystemError('GPU device not found')\n",
        "print('Found GPU at: {}'.format(device_name))"
      ],
      "metadata": {
        "id": "Nx2RElxkB4hC",
        "colab": {
          "base_uri": "https://localhost:8080/"
        },
        "outputId": "672b1b5a-becd-430c-ee3d-e2fb0eac4bad"
      },
      "execution_count": 2,
      "outputs": [
        {
          "output_type": "stream",
          "name": "stdout",
          "text": [
            "Found GPU at: /device:GPU:0\n"
          ]
        }
      ]
    },
    {
      "cell_type": "markdown",
      "metadata": {
        "id": "ReV_UXOgCZvx"
      },
      "source": [
        "Download and prepare the dataset\n",
        "\n"
      ]
    },
    {
      "cell_type": "code",
      "execution_count": 3,
      "metadata": {
        "id": "OHlHs9Wj_PUM",
        "colab": {
          "base_uri": "https://localhost:8080/"
        },
        "outputId": "49e6834a-9ef2-4566-97c6-0800ea329e42"
      },
      "outputs": [
        {
          "output_type": "stream",
          "name": "stdout",
          "text": [
            "Downloading data from https://storage.googleapis.com/tensorflow/tf-keras-datasets/train-labels-idx1-ubyte.gz\n",
            "29515/29515 [==============================] - 0s 0us/step\n",
            "Downloading data from https://storage.googleapis.com/tensorflow/tf-keras-datasets/train-images-idx3-ubyte.gz\n",
            "26421880/26421880 [==============================] - 0s 0us/step\n",
            "Downloading data from https://storage.googleapis.com/tensorflow/tf-keras-datasets/t10k-labels-idx1-ubyte.gz\n",
            "5148/5148 [==============================] - 0s 0us/step\n",
            "Downloading data from https://storage.googleapis.com/tensorflow/tf-keras-datasets/t10k-images-idx3-ubyte.gz\n",
            "4422102/4422102 [==============================] - 0s 0us/step\n"
          ]
        }
      ],
      "source": [
        "from keras.utils import to_categorical\n",
        "\n",
        "(img_train, label_train), (img_test, label_test) = keras.datasets.fashion_mnist.load_data()\n",
        "\n",
        "#Normalize pixel values between 0 and 1\n",
        "img_train = img_train.astype('float32') / 255.0\n",
        "img_test = img_test.astype('float32') / 255.0\n",
        "\n",
        "# One-hot encode labels for categorical crossentropy function\n",
        "label_train = to_categorical(label_train, num_classes=10)\n",
        "label_test = to_categorical(label_test, num_classes=10)"
      ]
    },
    {
      "cell_type": "markdown",
      "source": [
        "##Create the custom loss function"
      ],
      "metadata": {
        "id": "ZHBG_4eXGF2W"
      }
    },
    {
      "cell_type": "code",
      "source": [
        "from keras import losses\n",
        "class ChebyshevLoss(losses.Loss):\n",
        "    def __init__(self, ideal_loss_point, weights, name=\"chebyshev_loss\"):\n",
        "        super().__init__(name=name)\n",
        "        self.ideal_loss_point = ideal_loss_point\n",
        "        self.weights = weights\n",
        "\n",
        "    def call(self, y_true, y_pred):\n",
        "        # Calculates cross entropy loss (error)\n",
        "        error_loss = tf.keras.losses.categorical_crossentropy(y_true, y_pred, from_logits=True)\n",
        "\n",
        "        # Calculates L2 regularization (complexity)\n",
        "        l2_loss = tf.add_n([tf.nn.l2_loss(weight) for weight in self.model.trainable_weights])\n",
        "\n",
        "        # Chebyshev Scalarization involves maximizing the minimum of weights\n",
        "        # Chebyshev loss is essentially the largest weighted difference of each objective to the ideal points\n",
        "        weighted_error_diff = self.weights[0] * (error_loss - self.ideal_loss_point[0])\n",
        "        weighted_l2_diff = self.weights[1] * (l2_loss - self.ideal_loss_point[1])\n",
        "\n",
        "        # Combining the loss components following the Chebyshev criterion\n",
        "        chebyshev_loss = tf.maximum(weighted_error_diff, weighted_l2_diff)\n",
        "\n",
        "        return chebyshev_loss\n",
        "\n",
        "    def get_config(self):\n",
        "        config = super(ChebyshevLoss, self).get_config()\n",
        "        config.update({\n",
        "            \"ideal_loss_point\": self.ideal_loss_point,\n",
        "            \"weights\": self.weights\n",
        "        })\n",
        "        return config"
      ],
      "metadata": {
        "id": "LO4TYYSmGPka"
      },
      "execution_count": 4,
      "outputs": []
    },
    {
      "cell_type": "markdown",
      "source": [
        "##Build the model"
      ],
      "metadata": {
        "id": "F8a8poezCZNg"
      }
    },
    {
      "cell_type": "code",
      "execution_count": 5,
      "metadata": {
        "id": "ZQKodC-jtsva"
      },
      "outputs": [],
      "source": [
        "def model_builder(hp):\n",
        "  # Defining the scope of the Hyperparameters:----------------------------------\n",
        "\n",
        "  # convolutional layers\n",
        "  hp_conv1_units = hp.Int('conv1_units', min_value=32, max_value=512, step=32)\n",
        "  hp_conv2_units = hp.Int('conv2_units', min_value=32, max_value=512, step=32)\n",
        "  hp_conv3_units = hp.Int('conv3_units', min_value=32, max_value=512, step=32)\n",
        "\n",
        "  hp_kernel_size1 =  hp.Int('kern_size1', min_value=3, max_value=5)\n",
        "  hp_kernel_size2 =  hp.Int('kern_size2', min_value=3, max_value=5)\n",
        "  hp_kernel_size3 =  hp.Int('kern_size3', min_value=3, max_value=5)\n",
        "\n",
        "  hp_pool_size1 = hp.Int('pool_sz1', min_value=2, max_value=4)\n",
        "  hp_pool_size2 = hp.Int('pool_sz2', min_value=2, max_value=4)\n",
        "  hp_pool_size3 = hp.Int('pool_sz3', min_value=2, max_value=4)\n",
        "\n",
        "  hp_stride_conv1 = hp.Int('stride_conv1', min_value=1, max_value=5)\n",
        "  hp_stride_conv2 = hp.Int('stride_conv2', min_value=1, max_value=5)\n",
        "  hp_stride_conv3 = hp.Int('stride_conv3', min_value=1, max_value=5)\n",
        "\n",
        "  hp_stride_pool1 = hp.Int('stride_pool1', min_value=1, max_value=5)\n",
        "  hp_stride_pool2 = hp.Int('stride_pool2', min_value=1, max_value=5)\n",
        "  hp_stride_pool3 = hp.Int('stride_pool3', min_value=1, max_value=5)\n",
        "\n",
        "  # dense layers\n",
        "  hp_activation=hp.Choice('activation', values=['relu','tanh','sigmoid'])\n",
        "\n",
        "  hp_dense_units1 = hp.Int('dense_units1', min_value=32, max_value=512, step=32)\n",
        "  hp_dense_units2 = hp.Int('dense_units2', min_value=32, max_value=512, step=32)\n",
        "\n",
        "  hp_dropout_rate1 = hp.Choice('dropout_rate1', values=[0.0, 0.1, 0.2, 0.3, 0.4, 0.5])\n",
        "  hp_dropout_rate2 = hp.Choice('dropout_rate2', values=[0.0, 0.1, 0.2, 0.3, 0.4, 0.5])\n",
        "\n",
        "  #defining the optimizer and it's learning rate\n",
        "  hp_optimizer = hp.Choice('optimizer', values=['adam', 'SGD', 'rmsprop'])\n",
        "  hp_learning_rate = hp.Choice('learning_rate', values=[1e-1,1e-2, 1e-3])\n",
        "  optimizer = tf.keras.optimizers.get(hp_optimizer)\n",
        "  optimizer.learning_rate = hp_learning_rate\n",
        "\n",
        "\n",
        "  #Building the model:----------------------------------------------------------\n",
        "\n",
        "  model = keras.Sequential()\n",
        "  model.add(keras.layers.Input(shape=(28, 28, 1))),\n",
        "\n",
        "  model.add(keras.layers.Conv2D(hp_conv1_units, kernel_size=(hp_kernel_size1), strides=(hp_stride_conv1), padding='same')), # conv1\n",
        "  model.add(keras.layers.MaxPooling2D(pool_size=(hp_pool_size1), strides=(hp_stride_pool1), padding='same')), # max pool 1\n",
        "  model.add(keras.layers.Conv2D(hp_conv2_units, kernel_size=(hp_kernel_size2), strides=(hp_stride_conv2), padding='same')), # conv2\n",
        "  model.add(keras.layers.MaxPooling2D(pool_size=(hp_pool_size2), strides=(hp_stride_pool2), padding='same')), # max pool 2\n",
        "  model.add(keras.layers.Conv2D(hp_conv3_units, kernel_size=(hp_kernel_size3), strides=(hp_stride_conv3), padding='same')), # conv3\n",
        "  model.add(keras.layers.MaxPooling2D(pool_size=(hp_pool_size3), strides=(hp_stride_pool3), padding='same')), # max pool 3\n",
        "\n",
        "  model.add(keras.layers.Flatten()) # flatten\n",
        "\n",
        "  model.add(keras.layers.Dense(units=hp_dense_units1, activation=hp_activation)) # dense 1\n",
        "  model.add(keras.layers.Dropout(hp_dropout_rate1)), # dropout 1\n",
        "\n",
        "  model.add(keras.layers.Dense(units=hp_dense_units2, activation=hp_activation)) # dense 2\n",
        "  model.add(keras.layers.Dropout(hp_dropout_rate2)), # dropout 2\n",
        "\n",
        "  model.add(keras.layers.Dense(10)) # dense output\n",
        "\n",
        "  #loss function hps\n",
        "  hp_wheights1 = hp.Float('loss_wgt1', min_value=0.5, max_value=1.0, step=0.1)\n",
        "  hp_wheights2 = hp.Float('loss_wgt2', min_value=0.0, max_value=0.5, step=0.1)\n",
        "\n",
        "  ideal_loss_point = (0.0, 0.0)\n",
        "  weights=(hp_wheights1, hp_wheights2)\n",
        "\n",
        "  custom_loss_cheb = ChebyshevLoss(ideal_loss_point=ideal_loss_point, weights=weights)\n",
        "  custom_loss_cheb.model = model #associates the model with the custom loss object\n",
        "\n",
        "  model.compile(optimizer=optimizer,\n",
        "                loss=custom_loss_cheb,\n",
        "                metrics=['accuracy'])\n",
        "\n",
        "  return model"
      ]
    },
    {
      "cell_type": "markdown",
      "metadata": {
        "id": "0J1VYw4q3x0b"
      },
      "source": [
        "## Instantiate the tuner and perform hypertuning\n",
        "In this case we use the Bayesian Optimization method"
      ]
    },
    {
      "cell_type": "code",
      "execution_count": 6,
      "metadata": {
        "id": "oichQFly6Y46"
      },
      "outputs": [],
      "source": [
        "tuner = kt.BayesianOptimization(\n",
        "    model_builder,\n",
        "    objective='val_accuracy',\n",
        "    max_trials=50,\n",
        "    directory='my_dir_test',\n",
        "    project_name='closs_cnn',\n",
        "    overwrite=True) #overwrites an older saved project"
      ]
    },
    {
      "cell_type": "markdown",
      "metadata": {
        "id": "cwhBdXx0Ekj8"
      },
      "source": [
        "Create a callback to stop training early after reaching a certain value for the validation loss."
      ]
    },
    {
      "cell_type": "code",
      "execution_count": 7,
      "metadata": {
        "id": "WT9IkS9NEjLc"
      },
      "outputs": [],
      "source": [
        "stop_early = tf.keras.callbacks.EarlyStopping(monitor='val_loss', patience=5)"
      ]
    },
    {
      "cell_type": "markdown",
      "metadata": {
        "id": "UKghEo15Tduy"
      },
      "source": [
        "Run the hyperparameter search"
      ]
    },
    {
      "cell_type": "code",
      "execution_count": 8,
      "metadata": {
        "id": "dSBQcTHF9cKt",
        "colab": {
          "base_uri": "https://localhost:8080/"
        },
        "outputId": "540acc03-0279-464f-a27a-be5f65bd4d84"
      },
      "outputs": [
        {
          "output_type": "stream",
          "name": "stdout",
          "text": [
            "Trial 50 Complete [00h 01m 15s]\n",
            "val_accuracy: 0.5074999928474426\n",
            "\n",
            "Best val_accuracy So Far: 0.8605416417121887\n",
            "Total elapsed time: 01h 20m 31s\n"
          ]
        }
      ],
      "source": [
        "import time\n",
        "start = time.time() # will measure the searching duration\n",
        "\n",
        "tuner.search(img_train, label_train, epochs=10, validation_split=0.4, callbacks=[stop_early]) # run the HP search"
      ]
    },
    {
      "cell_type": "code",
      "source": [
        "end = time.time()\n",
        "search_duration = (end-start)/60\n",
        "\n",
        "# Get the optimal hyperparameters\n",
        "best_hps = tuner.get_best_hyperparameters(num_trials=1)[0]"
      ],
      "metadata": {
        "id": "NSe9GoHrF0j_"
      },
      "execution_count": 9,
      "outputs": []
    },
    {
      "cell_type": "markdown",
      "metadata": {
        "id": "Lak_ylf88xBv"
      },
      "source": [
        "## Train the model"
      ]
    },
    {
      "cell_type": "code",
      "execution_count": 10,
      "metadata": {
        "id": "McO82AXOuxXh",
        "colab": {
          "base_uri": "https://localhost:8080/"
        },
        "outputId": "5d18dd40-0ec3-41b5-f10e-7b52b178bd87"
      },
      "outputs": [
        {
          "output_type": "stream",
          "name": "stdout",
          "text": [
            "Epoch 1/100\n",
            "1125/1125 [==============================] - 10s 7ms/step - loss: 0.5339 - accuracy: 0.7486 - val_loss: 0.4061 - val_accuracy: 0.8175\n",
            "Epoch 2/100\n",
            "1125/1125 [==============================] - 8s 7ms/step - loss: 0.3855 - accuracy: 0.8262 - val_loss: 0.4172 - val_accuracy: 0.8087\n",
            "Epoch 3/100\n",
            "1125/1125 [==============================] - 9s 8ms/step - loss: 0.3515 - accuracy: 0.8399 - val_loss: 0.5011 - val_accuracy: 0.7983\n",
            "Epoch 4/100\n",
            "1125/1125 [==============================] - 9s 8ms/step - loss: 0.3341 - accuracy: 0.8493 - val_loss: 0.3482 - val_accuracy: 0.8530\n",
            "Epoch 5/100\n",
            "1125/1125 [==============================] - 9s 8ms/step - loss: 0.3216 - accuracy: 0.8536 - val_loss: 0.3573 - val_accuracy: 0.8429\n",
            "Epoch 6/100\n",
            "1125/1125 [==============================] - 8s 7ms/step - loss: 0.3153 - accuracy: 0.8590 - val_loss: 0.3347 - val_accuracy: 0.8554\n",
            "Epoch 7/100\n",
            "1125/1125 [==============================] - 8s 7ms/step - loss: 0.3058 - accuracy: 0.8613 - val_loss: 0.4320 - val_accuracy: 0.8227\n",
            "Epoch 8/100\n",
            "1125/1125 [==============================] - 8s 7ms/step - loss: 0.3009 - accuracy: 0.8657 - val_loss: 0.4245 - val_accuracy: 0.8468\n",
            "Epoch 9/100\n",
            "1125/1125 [==============================] - 8s 7ms/step - loss: 0.3016 - accuracy: 0.8660 - val_loss: 0.3996 - val_accuracy: 0.8453\n",
            "Epoch 10/100\n",
            "1125/1125 [==============================] - 9s 8ms/step - loss: 0.2990 - accuracy: 0.8678 - val_loss: 0.3823 - val_accuracy: 0.8444\n",
            "Epoch 11/100\n",
            "1125/1125 [==============================] - 9s 8ms/step - loss: 0.2945 - accuracy: 0.8708 - val_loss: 0.3762 - val_accuracy: 0.8571\n",
            "Epoch 12/100\n",
            "1125/1125 [==============================] - 9s 8ms/step - loss: 0.2949 - accuracy: 0.8718 - val_loss: 0.4220 - val_accuracy: 0.8232\n",
            "Epoch 13/100\n",
            "1125/1125 [==============================] - 9s 8ms/step - loss: 0.2926 - accuracy: 0.8721 - val_loss: 0.4285 - val_accuracy: 0.8653\n",
            "Epoch 14/100\n",
            "1125/1125 [==============================] - 8s 7ms/step - loss: 0.2909 - accuracy: 0.8748 - val_loss: 0.3762 - val_accuracy: 0.8502\n",
            "Epoch 15/100\n",
            "1125/1125 [==============================] - 8s 7ms/step - loss: 0.2912 - accuracy: 0.8733 - val_loss: 0.3949 - val_accuracy: 0.8555\n",
            "Epoch 16/100\n",
            "1125/1125 [==============================] - 9s 8ms/step - loss: 0.2862 - accuracy: 0.8767 - val_loss: 0.4821 - val_accuracy: 0.8217\n",
            "Epoch 17/100\n",
            "1125/1125 [==============================] - 8s 7ms/step - loss: 0.2852 - accuracy: 0.8764 - val_loss: 0.3698 - val_accuracy: 0.8597\n",
            "Epoch 18/100\n",
            "1125/1125 [==============================] - 9s 8ms/step - loss: 0.2819 - accuracy: 0.8800 - val_loss: 0.5285 - val_accuracy: 0.8356\n",
            "Epoch 19/100\n",
            "1125/1125 [==============================] - 8s 7ms/step - loss: 0.2833 - accuracy: 0.8796 - val_loss: 0.3736 - val_accuracy: 0.8518\n",
            "Epoch 20/100\n",
            "1125/1125 [==============================] - 8s 7ms/step - loss: 0.2809 - accuracy: 0.8813 - val_loss: 0.4356 - val_accuracy: 0.8293\n",
            "Epoch 21/100\n",
            "1125/1125 [==============================] - 9s 8ms/step - loss: 0.2826 - accuracy: 0.8791 - val_loss: 0.6416 - val_accuracy: 0.7792\n",
            "Epoch 22/100\n",
            "1125/1125 [==============================] - 8s 7ms/step - loss: 0.2725 - accuracy: 0.8845 - val_loss: 0.4222 - val_accuracy: 0.8550\n",
            "Epoch 23/100\n",
            "1125/1125 [==============================] - 9s 8ms/step - loss: 0.2781 - accuracy: 0.8843 - val_loss: 0.5345 - val_accuracy: 0.8488\n",
            "Epoch 24/100\n",
            "1125/1125 [==============================] - 8s 7ms/step - loss: 0.2771 - accuracy: 0.8858 - val_loss: 0.4970 - val_accuracy: 0.8652\n",
            "Epoch 25/100\n",
            "1125/1125 [==============================] - 9s 8ms/step - loss: 0.2742 - accuracy: 0.8863 - val_loss: 0.4767 - val_accuracy: 0.8577\n",
            "Epoch 26/100\n",
            "1125/1125 [==============================] - 9s 8ms/step - loss: 0.2806 - accuracy: 0.8851 - val_loss: 0.5876 - val_accuracy: 0.8380\n",
            "Epoch 27/100\n",
            "1125/1125 [==============================] - 9s 8ms/step - loss: 0.2769 - accuracy: 0.8867 - val_loss: 0.4436 - val_accuracy: 0.8669\n",
            "Epoch 28/100\n",
            "1125/1125 [==============================] - 8s 7ms/step - loss: 0.2788 - accuracy: 0.8896 - val_loss: 0.5039 - val_accuracy: 0.8537\n",
            "Epoch 29/100\n",
            "1125/1125 [==============================] - 8s 7ms/step - loss: 0.2838 - accuracy: 0.8884 - val_loss: 0.4976 - val_accuracy: 0.8508\n",
            "Epoch 30/100\n",
            "1125/1125 [==============================] - 8s 7ms/step - loss: 0.2716 - accuracy: 0.8907 - val_loss: 0.6222 - val_accuracy: 0.8378\n",
            "Epoch 31/100\n",
            "1125/1125 [==============================] - 9s 8ms/step - loss: 0.2695 - accuracy: 0.8926 - val_loss: 0.6758 - val_accuracy: 0.8489\n",
            "Epoch 32/100\n",
            "1125/1125 [==============================] - 9s 8ms/step - loss: 0.2856 - accuracy: 0.8927 - val_loss: 0.7163 - val_accuracy: 0.8374\n",
            "Epoch 33/100\n",
            "1125/1125 [==============================] - 8s 7ms/step - loss: 0.2829 - accuracy: 0.8904 - val_loss: 0.4600 - val_accuracy: 0.8590\n",
            "Epoch 34/100\n",
            "1125/1125 [==============================] - 9s 8ms/step - loss: 0.2738 - accuracy: 0.8916 - val_loss: 0.5909 - val_accuracy: 0.8535\n",
            "Epoch 35/100\n",
            "1125/1125 [==============================] - 8s 7ms/step - loss: 0.2802 - accuracy: 0.8928 - val_loss: 0.6731 - val_accuracy: 0.8606\n",
            "Epoch 36/100\n",
            "1125/1125 [==============================] - 8s 7ms/step - loss: 0.2762 - accuracy: 0.8944 - val_loss: 0.5472 - val_accuracy: 0.8609\n",
            "Epoch 37/100\n",
            "1125/1125 [==============================] - 8s 7ms/step - loss: 0.2847 - accuracy: 0.8956 - val_loss: 0.7132 - val_accuracy: 0.8591\n",
            "Epoch 38/100\n",
            "1125/1125 [==============================] - 9s 8ms/step - loss: 0.2858 - accuracy: 0.8922 - val_loss: 0.5043 - val_accuracy: 0.8547\n",
            "Epoch 39/100\n",
            "1125/1125 [==============================] - 9s 8ms/step - loss: 0.2805 - accuracy: 0.8963 - val_loss: 0.4941 - val_accuracy: 0.8696\n",
            "Epoch 40/100\n",
            "1125/1125 [==============================] - 8s 7ms/step - loss: 0.2757 - accuracy: 0.8939 - val_loss: 1.0687 - val_accuracy: 0.8472\n",
            "Epoch 41/100\n",
            "1125/1125 [==============================] - 9s 8ms/step - loss: 0.2756 - accuracy: 0.8964 - val_loss: 0.5614 - val_accuracy: 0.8680\n",
            "Epoch 42/100\n",
            "1125/1125 [==============================] - 8s 7ms/step - loss: 0.2877 - accuracy: 0.8950 - val_loss: 0.4840 - val_accuracy: 0.8699\n",
            "Epoch 43/100\n",
            "1125/1125 [==============================] - 8s 7ms/step - loss: 0.2752 - accuracy: 0.8980 - val_loss: 0.5690 - val_accuracy: 0.8587\n",
            "Epoch 44/100\n",
            "1125/1125 [==============================] - 8s 7ms/step - loss: 0.2717 - accuracy: 0.8989 - val_loss: 0.6803 - val_accuracy: 0.8663\n",
            "Epoch 45/100\n",
            "1125/1125 [==============================] - 9s 8ms/step - loss: 0.2798 - accuracy: 0.8982 - val_loss: 0.7110 - val_accuracy: 0.8493\n",
            "Epoch 46/100\n",
            "1125/1125 [==============================] - 9s 8ms/step - loss: 0.2963 - accuracy: 0.8979 - val_loss: 0.5567 - val_accuracy: 0.8625\n",
            "Epoch 47/100\n",
            "1125/1125 [==============================] - 8s 7ms/step - loss: 0.2976 - accuracy: 0.8966 - val_loss: 0.6547 - val_accuracy: 0.8437\n",
            "Epoch 48/100\n",
            "1125/1125 [==============================] - 9s 8ms/step - loss: 0.2903 - accuracy: 0.8988 - val_loss: 0.7485 - val_accuracy: 0.8585\n",
            "Epoch 49/100\n",
            "1125/1125 [==============================] - 9s 8ms/step - loss: 0.2869 - accuracy: 0.8998 - val_loss: 0.7317 - val_accuracy: 0.8466\n",
            "Epoch 50/100\n",
            "1125/1125 [==============================] - 8s 7ms/step - loss: 0.2833 - accuracy: 0.9002 - val_loss: 0.7192 - val_accuracy: 0.8651\n",
            "Epoch 51/100\n",
            "1125/1125 [==============================] - 8s 7ms/step - loss: 0.2843 - accuracy: 0.8999 - val_loss: 0.8111 - val_accuracy: 0.8062\n",
            "Epoch 52/100\n",
            "1125/1125 [==============================] - 8s 7ms/step - loss: 0.2905 - accuracy: 0.9003 - val_loss: 0.5353 - val_accuracy: 0.8692\n",
            "Epoch 53/100\n",
            "1125/1125 [==============================] - 9s 8ms/step - loss: 0.2754 - accuracy: 0.9027 - val_loss: 1.1472 - val_accuracy: 0.7879\n",
            "Epoch 54/100\n",
            "1125/1125 [==============================] - 8s 7ms/step - loss: 0.2858 - accuracy: 0.9006 - val_loss: 1.0601 - val_accuracy: 0.8469\n",
            "Epoch 55/100\n",
            "1125/1125 [==============================] - 9s 8ms/step - loss: 0.3007 - accuracy: 0.8985 - val_loss: 0.6270 - val_accuracy: 0.8611\n",
            "Epoch 56/100\n",
            "1125/1125 [==============================] - 8s 7ms/step - loss: 0.2987 - accuracy: 0.8987 - val_loss: 0.7251 - val_accuracy: 0.8638\n",
            "Epoch 57/100\n",
            "1125/1125 [==============================] - 9s 8ms/step - loss: 0.2873 - accuracy: 0.8997 - val_loss: 0.8195 - val_accuracy: 0.8633\n",
            "Epoch 58/100\n",
            "1125/1125 [==============================] - 9s 8ms/step - loss: 0.2952 - accuracy: 0.9025 - val_loss: 0.7224 - val_accuracy: 0.8642\n",
            "Epoch 59/100\n",
            "1125/1125 [==============================] - 9s 8ms/step - loss: 0.2960 - accuracy: 0.9015 - val_loss: 0.7459 - val_accuracy: 0.8566\n",
            "Epoch 60/100\n",
            "1125/1125 [==============================] - 10s 9ms/step - loss: 0.2886 - accuracy: 0.9038 - val_loss: 0.9275 - val_accuracy: 0.8310\n",
            "Epoch 61/100\n",
            "1125/1125 [==============================] - 8s 7ms/step - loss: 0.2973 - accuracy: 0.9028 - val_loss: 0.6354 - val_accuracy: 0.8502\n",
            "Epoch 62/100\n",
            "1125/1125 [==============================] - 8s 7ms/step - loss: 0.3075 - accuracy: 0.9026 - val_loss: 0.7224 - val_accuracy: 0.8544\n",
            "Epoch 63/100\n",
            "1125/1125 [==============================] - 8s 7ms/step - loss: 0.3075 - accuracy: 0.9001 - val_loss: 0.8719 - val_accuracy: 0.8580\n",
            "Epoch 64/100\n",
            "1125/1125 [==============================] - 8s 7ms/step - loss: 0.3291 - accuracy: 0.8977 - val_loss: 0.9752 - val_accuracy: 0.8505\n",
            "Epoch 65/100\n",
            "1125/1125 [==============================] - 9s 8ms/step - loss: 0.3105 - accuracy: 0.8997 - val_loss: 0.9227 - val_accuracy: 0.8431\n",
            "Epoch 66/100\n",
            "1125/1125 [==============================] - 9s 8ms/step - loss: 0.3214 - accuracy: 0.8992 - val_loss: 0.7565 - val_accuracy: 0.8356\n",
            "Epoch 67/100\n",
            "1125/1125 [==============================] - 8s 7ms/step - loss: 0.3319 - accuracy: 0.8958 - val_loss: 0.7478 - val_accuracy: 0.8536\n",
            "Epoch 68/100\n",
            "1125/1125 [==============================] - 8s 7ms/step - loss: 0.3276 - accuracy: 0.8996 - val_loss: 1.0035 - val_accuracy: 0.8522\n",
            "Epoch 69/100\n",
            "1125/1125 [==============================] - 8s 7ms/step - loss: 0.3558 - accuracy: 0.8961 - val_loss: 0.8312 - val_accuracy: 0.8486\n",
            "Epoch 70/100\n",
            "1125/1125 [==============================] - 8s 7ms/step - loss: 0.3660 - accuracy: 0.8954 - val_loss: 0.8005 - val_accuracy: 0.8623\n",
            "Epoch 71/100\n",
            "1125/1125 [==============================] - 9s 8ms/step - loss: 0.3435 - accuracy: 0.8947 - val_loss: 0.7901 - val_accuracy: 0.8620\n",
            "Epoch 72/100\n",
            "1125/1125 [==============================] - 8s 7ms/step - loss: 0.3529 - accuracy: 0.8982 - val_loss: 0.9009 - val_accuracy: 0.8585\n",
            "Epoch 73/100\n",
            "1125/1125 [==============================] - 9s 8ms/step - loss: 0.3109 - accuracy: 0.8996 - val_loss: 0.8202 - val_accuracy: 0.8467\n",
            "Epoch 74/100\n",
            "1125/1125 [==============================] - 8s 7ms/step - loss: 0.3475 - accuracy: 0.8962 - val_loss: 0.9708 - val_accuracy: 0.8382\n",
            "Epoch 75/100\n",
            "1125/1125 [==============================] - 9s 8ms/step - loss: 0.3514 - accuracy: 0.8954 - val_loss: 0.7360 - val_accuracy: 0.8412\n",
            "Epoch 76/100\n",
            "1125/1125 [==============================] - 9s 8ms/step - loss: 0.3444 - accuracy: 0.8903 - val_loss: 1.4492 - val_accuracy: 0.8232\n",
            "Epoch 77/100\n",
            "1125/1125 [==============================] - 8s 7ms/step - loss: 0.3773 - accuracy: 0.8968 - val_loss: 0.8916 - val_accuracy: 0.8550\n",
            "Epoch 78/100\n",
            "1125/1125 [==============================] - 10s 9ms/step - loss: 0.3761 - accuracy: 0.8925 - val_loss: 0.9843 - val_accuracy: 0.8655\n",
            "Epoch 79/100\n",
            "1125/1125 [==============================] - 8s 7ms/step - loss: 0.3592 - accuracy: 0.8925 - val_loss: 0.8833 - val_accuracy: 0.8488\n",
            "Epoch 80/100\n",
            "1125/1125 [==============================] - 8s 7ms/step - loss: 0.3499 - accuracy: 0.8921 - val_loss: 0.8722 - val_accuracy: 0.8629\n",
            "Epoch 81/100\n",
            "1125/1125 [==============================] - 8s 7ms/step - loss: 0.3782 - accuracy: 0.8926 - val_loss: 1.0759 - val_accuracy: 0.8235\n",
            "Epoch 82/100\n",
            "1125/1125 [==============================] - 8s 7ms/step - loss: 0.3817 - accuracy: 0.8869 - val_loss: 1.1123 - val_accuracy: 0.8092\n",
            "Epoch 83/100\n",
            "1125/1125 [==============================] - 9s 8ms/step - loss: 0.4161 - accuracy: 0.8874 - val_loss: 1.8530 - val_accuracy: 0.8071\n",
            "Epoch 84/100\n",
            "1125/1125 [==============================] - 8s 7ms/step - loss: 0.3906 - accuracy: 0.8895 - val_loss: 1.0993 - val_accuracy: 0.8466\n",
            "Epoch 85/100\n",
            "1125/1125 [==============================] - 8s 7ms/step - loss: 0.4085 - accuracy: 0.8903 - val_loss: 1.2546 - val_accuracy: 0.8590\n",
            "Epoch 86/100\n",
            "1125/1125 [==============================] - 9s 8ms/step - loss: 0.4202 - accuracy: 0.8874 - val_loss: 1.5142 - val_accuracy: 0.8438\n",
            "Epoch 87/100\n",
            "1125/1125 [==============================] - 9s 8ms/step - loss: 0.4330 - accuracy: 0.8874 - val_loss: 0.8854 - val_accuracy: 0.8244\n",
            "Epoch 88/100\n",
            "1125/1125 [==============================] - 9s 8ms/step - loss: 0.4217 - accuracy: 0.8829 - val_loss: 0.9382 - val_accuracy: 0.8506\n",
            "Epoch 89/100\n",
            "1125/1125 [==============================] - 8s 7ms/step - loss: 0.4277 - accuracy: 0.8796 - val_loss: 0.8995 - val_accuracy: 0.8448\n",
            "Epoch 90/100\n",
            "1125/1125 [==============================] - 8s 7ms/step - loss: 0.4313 - accuracy: 0.8787 - val_loss: 5.4613 - val_accuracy: 0.6258\n",
            "Epoch 91/100\n",
            "1125/1125 [==============================] - 9s 8ms/step - loss: 0.4134 - accuracy: 0.8788 - val_loss: 1.0195 - val_accuracy: 0.8424\n",
            "Epoch 92/100\n",
            "1125/1125 [==============================] - 9s 8ms/step - loss: 0.4611 - accuracy: 0.8718 - val_loss: 0.9108 - val_accuracy: 0.8110\n",
            "Epoch 93/100\n",
            "1125/1125 [==============================] - 9s 8ms/step - loss: 0.4815 - accuracy: 0.8725 - val_loss: 1.1873 - val_accuracy: 0.8566\n",
            "Epoch 94/100\n",
            "1125/1125 [==============================] - 8s 7ms/step - loss: 0.4945 - accuracy: 0.8779 - val_loss: 0.8525 - val_accuracy: 0.8229\n",
            "Epoch 95/100\n",
            "1125/1125 [==============================] - 9s 8ms/step - loss: 0.4386 - accuracy: 0.8827 - val_loss: 1.3202 - val_accuracy: 0.8354\n",
            "Epoch 96/100\n",
            "1125/1125 [==============================] - 9s 8ms/step - loss: 0.4661 - accuracy: 0.8770 - val_loss: 1.0744 - val_accuracy: 0.8454\n",
            "Epoch 97/100\n",
            "1125/1125 [==============================] - 8s 7ms/step - loss: 0.5225 - accuracy: 0.8719 - val_loss: 1.0875 - val_accuracy: 0.8263\n",
            "Epoch 98/100\n",
            "1125/1125 [==============================] - 8s 7ms/step - loss: 0.5264 - accuracy: 0.8756 - val_loss: 0.9780 - val_accuracy: 0.8446\n",
            "Epoch 99/100\n",
            "1125/1125 [==============================] - 8s 7ms/step - loss: 0.5348 - accuracy: 0.8727 - val_loss: 1.3365 - val_accuracy: 0.8040\n",
            "Epoch 100/100\n",
            "1125/1125 [==============================] - 8s 7ms/step - loss: 0.5270 - accuracy: 0.8742 - val_loss: 1.2113 - val_accuracy: 0.8398\n",
            "\n",
            "Best epoch:42\n"
          ]
        }
      ],
      "source": [
        "# Build the model with the optimal HPs and train it\n",
        "\n",
        "hypermodel = tuner.hypermodel.build(best_hps)\n",
        "\n",
        "fit_start = time.time()\n",
        "history = hypermodel.fit(img_train, label_train, epochs=100, validation_split=0.4)\n",
        "\n",
        "val_acc_per_epoch = history.history['val_accuracy']\n",
        "best_epoch = val_acc_per_epoch.index(max(val_acc_per_epoch)) + 1\n",
        "print(f'\\nBest epoch:{best_epoch}')"
      ]
    },
    {
      "cell_type": "code",
      "source": [
        "fit_end = time.time()\n",
        "fit_duration = (fit_end-fit_start)/60"
      ],
      "metadata": {
        "id": "EQ1Pnxdm81d0"
      },
      "execution_count": 11,
      "outputs": []
    },
    {
      "cell_type": "markdown",
      "metadata": {
        "id": "MqU5ZVAaag2v"
      },
      "source": [
        "##Evaluate the Hypermodel"
      ]
    },
    {
      "cell_type": "code",
      "execution_count": 12,
      "metadata": {
        "id": "9E0BTp9Ealjb",
        "colab": {
          "base_uri": "https://localhost:8080/"
        },
        "outputId": "3d50c672-6b70-4df7-ffe2-a1e4d099826d"
      },
      "outputs": [
        {
          "output_type": "stream",
          "name": "stdout",
          "text": [
            "313/313 [==============================] - 2s 4ms/step - loss: 1.5103 - accuracy: 0.8290\n"
          ]
        }
      ],
      "source": [
        "eval_result = hypermodel.evaluate(img_test, label_test)"
      ]
    },
    {
      "cell_type": "markdown",
      "source": [
        "##Plot loss and accuracy curves"
      ],
      "metadata": {
        "id": "vGGM_i7BLRob"
      }
    },
    {
      "cell_type": "code",
      "source": [
        "import matplotlib.pyplot as plt\n",
        "\n",
        "plt.figure(figsize=[8,4])\n",
        "plt.plot(history.history['loss'],'r',linewidth=2.0)\n",
        "plt.plot(history.history['val_loss'],'b',linewidth=2.0)\n",
        "plt.legend(['Training loss', 'Validation Loss'],fontsize=12)\n",
        "plt.xlabel('Epochs ',fontsize=12)\n",
        "plt.ylabel('Loss',fontsize=12)\n",
        "plt.title('Loss Curves',fontsize=14)"
      ],
      "metadata": {
        "id": "iIDdlj7MKyZu",
        "colab": {
          "base_uri": "https://localhost:8080/",
          "height": 432
        },
        "outputId": "2dfff488-fa54-47b3-c146-868c3a23e5e7"
      },
      "execution_count": 13,
      "outputs": [
        {
          "output_type": "execute_result",
          "data": {
            "text/plain": [
              "Text(0.5, 1.0, 'Loss Curves')"
            ]
          },
          "metadata": {},
          "execution_count": 13
        },
        {
          "output_type": "display_data",
          "data": {
            "text/plain": [
              "<Figure size 800x400 with 1 Axes>"
            ],
            "image/png": "[encoded data removed]"
          },
          "metadata": {}
        }
      ]
    },
    {
      "cell_type": "code",
      "source": [
        "plt.figure(figsize=[8,4])\n",
        "plt.plot(history.history['accuracy'],'r',linewidth=2.0)\n",
        "plt.plot(history.history['val_accuracy'],'b',linewidth=2.0)\n",
        "plt.legend(['Training Accuracy', 'Validation Accuracy'],fontsize=12)\n",
        "plt.xlabel('Epochs ',fontsize=12)\n",
        "plt.ylabel('Accuracy',fontsize=12)\n",
        "plt.title('Accuracy Curves',fontsize=14)"
      ],
      "metadata": {
        "id": "uEdiNrNaLOzg",
        "colab": {
          "base_uri": "https://localhost:8080/",
          "height": 432
        },
        "outputId": "13ab2966-0ffa-4cbc-f806-591dfa8933a4"
      },
      "execution_count": 14,
      "outputs": [
        {
          "output_type": "execute_result",
          "data": {
            "text/plain": [
              "Text(0.5, 1.0, 'Accuracy Curves')"
            ]
          },
          "metadata": {},
          "execution_count": 14
        },
        {
          "output_type": "display_data",
          "data": {
            "text/plain": [
              "<Figure size 800x400 with 1 Axes>"
            ],
            "image/png": "[encoded data removed]"
          },
          "metadata": {}
        }
      ]
    },
    {
      "cell_type": "markdown",
      "source": [
        "##Summary"
      ],
      "metadata": {
        "id": "DwV2aucMIPZO"
      }
    },
    {
      "cell_type": "code",
      "source": [
        "print(f\"*Best Hyperparameters found:\")\n",
        "for key, value in best_hps.values.items():\n",
        " print(key,\":\",value)\n",
        "print(f'\\n*Hypermodel Evaluation:\\nTest loss: {eval_result[0]:.3f} \\nTest accuracy: {100*eval_result[1]:.2f} %')\n",
        "print(f\"\\n*Execution times:\\nHyperparameter searching time: {search_duration:.2f} minutes \\nHypermodel training time: {fit_duration:.2f} minutes\")"
      ],
      "metadata": {
        "colab": {
          "base_uri": "https://localhost:8080/"
        },
        "id": "hKtrBg0SIUJz",
        "outputId": "1cff0c2f-364d-431c-f904-cd43e58dca2b"
      },
      "execution_count": 15,
      "outputs": [
        {
          "output_type": "stream",
          "name": "stdout",
          "text": [
            "*Best Hyperparameters found:\n",
            "conv1_units : 512\n",
            "conv2_units : 192\n",
            "conv3_units : 128\n",
            "kern_size1 : 4\n",
            "kern_size2 : 4\n",
            "kern_size3 : 4\n",
            "pool_sz1 : 3\n",
            "pool_sz2 : 2\n",
            "pool_sz3 : 3\n",
            "stride_conv1 : 4\n",
            "stride_conv2 : 3\n",
            "stride_conv3 : 5\n",
            "stride_pool1 : 3\n",
            "stride_pool2 : 4\n",
            "stride_pool3 : 4\n",
            "activation : relu\n",
            "dense_units1 : 480\n",
            "dense_units2 : 384\n",
            "dropout_rate1 : 0.0\n",
            "dropout_rate2 : 0.0\n",
            "optimizer : rmsprop\n",
            "learning_rate : 0.001\n",
            "loss_wgt1 : 0.8\n",
            "loss_wgt2 : 0.0\n",
            "\n",
            "*Hypermodel Evaluation:\n",
            "Test loss: 1.510 \n",
            "Test accuracy: 82.90 %\n",
            "\n",
            "*Execution times:\n",
            "Hyperparameter searching time: 80.52 minutes \n",
            "Hypermodel training time: 14.15 minutes\n"
          ]
        }
      ]
    },
    {
      "cell_type": "code",
      "source": [
        "# HPS:\n",
        "# 'conv_units'\n",
        "# 'dense_units'\n",
        "# 'kernel_size'\n",
        "# 'pool_size'\n",
        "# 'strides'\n",
        "# 'activation function'\n",
        "# 'dropout_rate'\n",
        "# 'optimizer'\n",
        "# 'learning_rate'\n",
        "# 'loss_wgt'"
      ],
      "metadata": {
        "id": "pNMyPYWRxmNY"
      },
      "execution_count": 16,
      "outputs": []
    }
  ],
  "metadata": {
    "accelerator": "GPU",
    "colab": {
      "provenance": [],
      "include_colab_link": true
    },
    "kernelspec": {
      "display_name": "Python 3",
      "name": "python3"
    }
  },
  "nbformat": 4,
  "nbformat_minor": 0
}
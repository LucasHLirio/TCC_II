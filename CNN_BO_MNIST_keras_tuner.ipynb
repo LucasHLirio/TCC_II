{
  "cells": [
    {
      "cell_type": "markdown",
      "metadata": {
        "id": "view-in-github",
        "colab_type": "text"
      },
      "source": [
        "<a href=\"https://colab.research.google.com/github/LucasHLirio/TCC_II/blob/main/CNN_BO_MNIST_keras_tuner.ipynb\" target=\"_parent\"><img src=\"https://colab.research.google.com/assets/colab-badge.svg\" alt=\"Open In Colab\"/></a>"
      ]
    },
    {
      "cell_type": "markdown",
      "metadata": {
        "id": "MUXex9ctTuDB"
      },
      "source": [
        "## Setup"
      ]
    },
    {
      "cell_type": "markdown",
      "metadata": {
        "id": "g83Lwsy-Aq2_"
      },
      "source": [
        "Install and import the Keras Tuner:"
      ]
    },
    {
      "cell_type": "code",
      "execution_count": null,
      "metadata": {
        "id": "IqR2PQG4ZaZ0",
        "colab": {
          "base_uri": "https://localhost:8080/"
        },
        "outputId": "4b437515-b749-42e6-b380-7fe78078302c"
      },
      "outputs": [
        {
          "output_type": "stream",
          "name": "stdout",
          "text": [
            "\u001b[2K     \u001b[90m━━━━━━━━━━━━━━━━━━━━━━━━━━━━━━━━━━━━━━━━\u001b[0m \u001b[32m129.5/129.5 kB\u001b[0m \u001b[31m2.9 MB/s\u001b[0m eta \u001b[36m0:00:00\u001b[0m\n",
            "\u001b[2K     \u001b[90m━━━━━━━━━━━━━━━━━━━━━━━━━━━━━━━━━━━━━━━━\u001b[0m \u001b[32m950.8/950.8 kB\u001b[0m \u001b[31m27.2 MB/s\u001b[0m eta \u001b[36m0:00:00\u001b[0m\n",
            "\u001b[?25hUsing TensorFlow backend\n"
          ]
        }
      ],
      "source": [
        "import tensorflow as tf\n",
        "from tensorflow import keras\n",
        "\n",
        "!pip install -q -U keras-tuner\n",
        "import keras_tuner as kt"
      ]
    },
    {
      "cell_type": "markdown",
      "source": [
        "Test the GPU"
      ],
      "metadata": {
        "id": "iwS7QC07B5n5"
      }
    },
    {
      "cell_type": "code",
      "source": [
        "device_name = tf.test.gpu_device_name()\n",
        "if device_name != '/device:GPU:0':\n",
        "  raise SystemError('GPU device not found')\n",
        "print('Found GPU at: {}'.format(device_name))"
      ],
      "metadata": {
        "id": "Nx2RElxkB4hC",
        "colab": {
          "base_uri": "https://localhost:8080/"
        },
        "outputId": "d7b77ae1-8270-48e1-ac75-00ffa0e44759"
      },
      "execution_count": null,
      "outputs": [
        {
          "output_type": "stream",
          "name": "stdout",
          "text": [
            "Found GPU at: /device:GPU:0\n"
          ]
        }
      ]
    },
    {
      "cell_type": "markdown",
      "metadata": {
        "id": "ReV_UXOgCZvx"
      },
      "source": [
        "Download and prepare the dataset\n",
        "\n"
      ]
    },
    {
      "cell_type": "code",
      "execution_count": null,
      "metadata": {
        "id": "OHlHs9Wj_PUM",
        "colab": {
          "base_uri": "https://localhost:8080/"
        },
        "outputId": "b0dbf2b5-caca-47d0-f3ed-05f6caee3de9"
      },
      "outputs": [
        {
          "output_type": "stream",
          "name": "stdout",
          "text": [
            "Downloading data from https://storage.googleapis.com/tensorflow/tf-keras-datasets/mnist.npz\n",
            "11490434/11490434 [==============================] - 0s 0us/step\n"
          ]
        }
      ],
      "source": [
        "(img_train, label_train), (img_test, label_test) = keras.datasets.mnist.load_data(path=\"mnist.npz\")\n",
        "\n",
        "#Normalize pixel values between 0 and 1\n",
        "img_train = img_train.astype('float32') / 255.0\n",
        "img_test = img_test.astype('float32') / 255.0"
      ]
    },
    {
      "cell_type": "markdown",
      "source": [
        "##Build the model"
      ],
      "metadata": {
        "id": "F8a8poezCZNg"
      }
    },
    {
      "cell_type": "code",
      "execution_count": null,
      "metadata": {
        "id": "ZQKodC-jtsva"
      },
      "outputs": [],
      "source": [
        "def model_builder(hp):\n",
        "  # Defining the scope of the Hyperparameters:----------------------------------\n",
        "\n",
        "  # convolutional layers\n",
        "  hp_conv1_units = hp.Int('conv1_units', min_value=32, max_value=512, step=32)\n",
        "  hp_conv2_units = hp.Int('conv2_units', min_value=32, max_value=512, step=32)\n",
        "  hp_conv3_units = hp.Int('conv3_units', min_value=32, max_value=512, step=32)\n",
        "\n",
        "  hp_kernel_size1 =  hp.Int('kern_size1', min_value=3, max_value=5)\n",
        "  hp_kernel_size2 =  hp.Int('kern_size2', min_value=3, max_value=5)\n",
        "  hp_kernel_size3 =  hp.Int('kern_size3', min_value=3, max_value=5)\n",
        "\n",
        "  hp_pool_size1 = hp.Int('pool_sz1', min_value=2, max_value=4)\n",
        "  hp_pool_size2 = hp.Int('pool_sz2', min_value=2, max_value=4)\n",
        "  hp_pool_size3 = hp.Int('pool_sz3', min_value=2, max_value=4)\n",
        "\n",
        "  hp_stride_conv1 = hp.Int('stride_conv1', min_value=1, max_value=5)\n",
        "  hp_stride_conv2 = hp.Int('stride_conv2', min_value=1, max_value=5)\n",
        "  hp_stride_conv3 = hp.Int('stride_conv3', min_value=1, max_value=5)\n",
        "\n",
        "  hp_stride_pool1 = hp.Int('stride_pool1', min_value=1, max_value=5)\n",
        "  hp_stride_pool2 = hp.Int('stride_pool2', min_value=1, max_value=5)\n",
        "  hp_stride_pool3 = hp.Int('stride_pool3', min_value=1, max_value=5)\n",
        "\n",
        "  # dense layers\n",
        "  hp_activation=hp.Choice('activation', values=['relu','tanh','sigmoid'])\n",
        "\n",
        "  hp_dense_units1 = hp.Int('dense_units1', min_value=32, max_value=512, step=32)\n",
        "  hp_dense_units2 = hp.Int('dense_units2', min_value=32, max_value=512, step=32)\n",
        "\n",
        "  hp_dropout_rate1 = hp.Choice('dropout_rate1', values=[0.0, 0.1, 0.2, 0.3, 0.4, 0.5])\n",
        "  hp_dropout_rate2 = hp.Choice('dropout_rate2', values=[0.0, 0.1, 0.2, 0.3, 0.4, 0.5])\n",
        "\n",
        "  #defining the optimizer and it's learning rate\n",
        "  hp_optimizer = hp.Choice('optimizer', values=['adam', 'SGD', 'rmsprop'])\n",
        "  hp_learning_rate = hp.Choice('learning_rate', values=[1e-1,1e-2, 1e-3])\n",
        "  optimizer = tf.keras.optimizers.get(hp_optimizer)\n",
        "  optimizer.learning_rate = hp_learning_rate\n",
        "\n",
        "\n",
        "  #Building the model:----------------------------------------------------------\n",
        "\n",
        "  model = keras.Sequential()\n",
        "  model.add(keras.layers.Input(shape=(28, 28, 1))),\n",
        "\n",
        "  model.add(keras.layers.Conv2D(hp_conv1_units, kernel_size=(hp_kernel_size1), strides=(hp_stride_conv1), padding='same')), # conv1\n",
        "  model.add(keras.layers.MaxPooling2D(pool_size=(hp_pool_size1), strides=(hp_stride_pool1), padding='same')), # max pool 1\n",
        "  model.add(keras.layers.Conv2D(hp_conv2_units, kernel_size=(hp_kernel_size2), strides=(hp_stride_conv2), padding='same')), # conv2\n",
        "  model.add(keras.layers.MaxPooling2D(pool_size=(hp_pool_size2), strides=(hp_stride_pool2), padding='same')), # max pool 2\n",
        "  model.add(keras.layers.Conv2D(hp_conv3_units, kernel_size=(hp_kernel_size3), strides=(hp_stride_conv3), padding='same')), # conv3\n",
        "  model.add(keras.layers.MaxPooling2D(pool_size=(hp_pool_size3), strides=(hp_stride_pool3), padding='same')), # max pool 3\n",
        "\n",
        "  model.add(keras.layers.Flatten()) # flatten\n",
        "\n",
        "  model.add(keras.layers.Dense(units=hp_dense_units1, activation=hp_activation)) # dense 1\n",
        "  model.add(keras.layers.Dropout(hp_dropout_rate1)), # dropout 1\n",
        "\n",
        "  model.add(keras.layers.Dense(units=hp_dense_units2, activation=hp_activation)) # dense 2\n",
        "  model.add(keras.layers.Dropout(hp_dropout_rate2)), # dropout 2\n",
        "\n",
        "  model.add(keras.layers.Dense(10)) # dense output\n",
        "\n",
        "  model.compile(optimizer=optimizer,\n",
        "                loss=keras.losses.SparseCategoricalCrossentropy(from_logits=True),\n",
        "                metrics=['accuracy'])\n",
        "\n",
        "  return model"
      ]
    },
    {
      "cell_type": "markdown",
      "metadata": {
        "id": "0J1VYw4q3x0b"
      },
      "source": [
        "## Instantiate the tuner and perform hypertuning\n",
        "In this case we use the Bayesian Optimization method"
      ]
    },
    {
      "cell_type": "code",
      "execution_count": null,
      "metadata": {
        "id": "oichQFly6Y46"
      },
      "outputs": [],
      "source": [
        "tuner = kt.BayesianOptimization(\n",
        "    model_builder,\n",
        "    objective='val_loss',\n",
        "    num_initial_points=50,\n",
        "    max_trials=15,\n",
        "    directory='my_dir',\n",
        "    project_name='cnn_bayes')"
      ]
    },
    {
      "cell_type": "markdown",
      "metadata": {
        "id": "cwhBdXx0Ekj8"
      },
      "source": [
        "Create a callback to stop training early after reaching a certain value for the validation loss."
      ]
    },
    {
      "cell_type": "code",
      "execution_count": null,
      "metadata": {
        "id": "WT9IkS9NEjLc"
      },
      "outputs": [],
      "source": [
        "stop_early = tf.keras.callbacks.EarlyStopping(monitor='val_loss', patience=5)"
      ]
    },
    {
      "cell_type": "markdown",
      "metadata": {
        "id": "UKghEo15Tduy"
      },
      "source": [
        "Run the hyperparameter search"
      ]
    },
    {
      "cell_type": "code",
      "execution_count": null,
      "metadata": {
        "id": "dSBQcTHF9cKt",
        "colab": {
          "base_uri": "https://localhost:8080/"
        },
        "outputId": "0e2828cd-30e9-4d26-a4bc-c74b9af8c6d2"
      },
      "outputs": [
        {
          "output_type": "stream",
          "name": "stdout",
          "text": [
            "Trial 15 Complete [00h 01m 46s]\n",
            "val_accuracy: 0.7106666564941406\n",
            "\n",
            "Best val_accuracy So Far: 0.9915000200271606\n",
            "Total elapsed time: 00h 46m 41s\n"
          ]
        }
      ],
      "source": [
        "import time\n",
        "start = time.time() # will measure the searching duration\n",
        "\n",
        "tuner.search(img_train, label_train, epochs=50, validation_split=0.4, callbacks=[stop_early]) # run the HP search"
      ]
    },
    {
      "cell_type": "code",
      "source": [
        "end = time.time()\n",
        "search_duration = end-start\n",
        "search_minutes = search_duration/60\n",
        "\n",
        "print(f'Search duration: {search_duration:.3f} seconds ({search_minutes:.2f} minutes)')\n",
        "\n",
        "# Get the optimal hyperparameters\n",
        "best_hps=tuner.get_best_hyperparameters(num_trials=1)[0]\n",
        "\n",
        "print(\"-----------------THE BEST HPs ARE:-----------------\\n\")\n",
        "best_hps.values"
      ],
      "metadata": {
        "id": "NSe9GoHrF0j_",
        "colab": {
          "base_uri": "https://localhost:8080/"
        },
        "outputId": "88dcb506-12cf-4a57-d58d-031984bfa4de"
      },
      "execution_count": null,
      "outputs": [
        {
          "output_type": "stream",
          "name": "stdout",
          "text": [
            "Search duration: 2800.572 seconds (46.68 minutes)\n",
            "-----------------THE BEST HPs ARE:-----------------\n",
            "\n"
          ]
        },
        {
          "output_type": "execute_result",
          "data": {
            "text/plain": [
              "{'conv1_units': 352,\n",
              " 'conv2_units': 352,\n",
              " 'conv3_units': 192,\n",
              " 'kern_size1': 5,\n",
              " 'kern_size2': 5,\n",
              " 'kern_size3': 4,\n",
              " 'pool_sz1': 2,\n",
              " 'pool_sz2': 4,\n",
              " 'pool_sz3': 3,\n",
              " 'stride_conv1': 3,\n",
              " 'stride_conv2': 1,\n",
              " 'stride_conv3': 1,\n",
              " 'stride_pool1': 1,\n",
              " 'stride_pool2': 2,\n",
              " 'stride_pool3': 4,\n",
              " 'activation': 'tanh',\n",
              " 'dense_units1': 64,\n",
              " 'dense_units2': 288,\n",
              " 'dropout_rate1': 0.1,\n",
              " 'dropout_rate2': 0.0,\n",
              " 'optimizer': 'SGD',\n",
              " 'learning_rate': 0.1}"
            ]
          },
          "metadata": {},
          "execution_count": 8
        }
      ]
    },
    {
      "cell_type": "markdown",
      "metadata": {
        "id": "Lak_ylf88xBv"
      },
      "source": [
        "## Train the model"
      ]
    },
    {
      "cell_type": "code",
      "execution_count": null,
      "metadata": {
        "id": "McO82AXOuxXh",
        "colab": {
          "base_uri": "https://localhost:8080/"
        },
        "outputId": "0f56aa05-6796-496f-db4d-e6bb3575752d"
      },
      "outputs": [
        {
          "output_type": "stream",
          "name": "stdout",
          "text": [
            "Epoch 1/100\n",
            "1125/1125 [==============================] - 23s 20ms/step - loss: 0.2587 - accuracy: 0.9131 - val_loss: 0.0604 - val_accuracy: 0.9812\n",
            "Epoch 2/100\n",
            "1125/1125 [==============================] - 24s 21ms/step - loss: 0.0498 - accuracy: 0.9856 - val_loss: 0.0462 - val_accuracy: 0.9858\n",
            "Epoch 3/100\n",
            "1125/1125 [==============================] - 23s 21ms/step - loss: 0.0280 - accuracy: 0.9913 - val_loss: 0.0468 - val_accuracy: 0.9854\n",
            "Epoch 4/100\n",
            "1125/1125 [==============================] - 22s 20ms/step - loss: 0.0188 - accuracy: 0.9938 - val_loss: 0.0457 - val_accuracy: 0.9866\n",
            "Epoch 5/100\n",
            "1125/1125 [==============================] - 22s 20ms/step - loss: 0.0103 - accuracy: 0.9969 - val_loss: 0.0375 - val_accuracy: 0.9892\n",
            "Epoch 6/100\n",
            "1125/1125 [==============================] - 23s 21ms/step - loss: 0.0070 - accuracy: 0.9979 - val_loss: 0.0468 - val_accuracy: 0.9865\n",
            "Epoch 7/100\n",
            "1125/1125 [==============================] - 22s 20ms/step - loss: 0.0033 - accuracy: 0.9991 - val_loss: 0.0360 - val_accuracy: 0.9901\n",
            "Epoch 8/100\n",
            "1125/1125 [==============================] - 22s 20ms/step - loss: 0.0015 - accuracy: 0.9996 - val_loss: 0.0371 - val_accuracy: 0.9904\n",
            "Epoch 9/100\n",
            "1125/1125 [==============================] - 24s 21ms/step - loss: 8.5082e-04 - accuracy: 0.9998 - val_loss: 0.0357 - val_accuracy: 0.9907\n",
            "Epoch 10/100\n",
            "1125/1125 [==============================] - 23s 21ms/step - loss: 3.5391e-04 - accuracy: 1.0000 - val_loss: 0.0349 - val_accuracy: 0.9910\n",
            "Epoch 11/100\n",
            "1125/1125 [==============================] - 23s 21ms/step - loss: 2.5568e-04 - accuracy: 1.0000 - val_loss: 0.0344 - val_accuracy: 0.9915\n",
            "Epoch 12/100\n",
            "1125/1125 [==============================] - 22s 20ms/step - loss: 2.2131e-04 - accuracy: 1.0000 - val_loss: 0.0348 - val_accuracy: 0.9910\n",
            "Epoch 13/100\n",
            "1125/1125 [==============================] - 24s 21ms/step - loss: 1.7282e-04 - accuracy: 1.0000 - val_loss: 0.0349 - val_accuracy: 0.9914\n",
            "Epoch 14/100\n",
            "1125/1125 [==============================] - 22s 20ms/step - loss: 1.3557e-04 - accuracy: 1.0000 - val_loss: 0.0355 - val_accuracy: 0.9914\n",
            "Epoch 15/100\n",
            "1125/1125 [==============================] - 23s 21ms/step - loss: 1.3443e-04 - accuracy: 1.0000 - val_loss: 0.0360 - val_accuracy: 0.9913\n",
            "Epoch 16/100\n",
            "1125/1125 [==============================] - 22s 20ms/step - loss: 1.1698e-04 - accuracy: 1.0000 - val_loss: 0.0357 - val_accuracy: 0.9915\n",
            "Epoch 17/100\n",
            "1125/1125 [==============================] - 24s 21ms/step - loss: 1.3962e-04 - accuracy: 1.0000 - val_loss: 0.0360 - val_accuracy: 0.9914\n",
            "Epoch 18/100\n",
            "1125/1125 [==============================] - 24s 21ms/step - loss: 1.0420e-04 - accuracy: 1.0000 - val_loss: 0.0356 - val_accuracy: 0.9915\n",
            "Epoch 19/100\n",
            "1125/1125 [==============================] - 22s 20ms/step - loss: 9.7302e-05 - accuracy: 1.0000 - val_loss: 0.0361 - val_accuracy: 0.9915\n",
            "Epoch 20/100\n",
            "1125/1125 [==============================] - 23s 21ms/step - loss: 9.8849e-05 - accuracy: 1.0000 - val_loss: 0.0362 - val_accuracy: 0.9914\n",
            "Epoch 21/100\n",
            "1125/1125 [==============================] - 23s 21ms/step - loss: 8.7200e-05 - accuracy: 1.0000 - val_loss: 0.0363 - val_accuracy: 0.9916\n",
            "Epoch 22/100\n",
            "1125/1125 [==============================] - 23s 21ms/step - loss: 7.6607e-05 - accuracy: 1.0000 - val_loss: 0.0365 - val_accuracy: 0.9917\n",
            "Epoch 23/100\n",
            "1125/1125 [==============================] - 22s 20ms/step - loss: 7.4763e-05 - accuracy: 1.0000 - val_loss: 0.0368 - val_accuracy: 0.9915\n",
            "Epoch 24/100\n",
            "1125/1125 [==============================] - 23s 21ms/step - loss: 7.2960e-05 - accuracy: 1.0000 - val_loss: 0.0372 - val_accuracy: 0.9912\n",
            "Epoch 25/100\n",
            "1125/1125 [==============================] - 22s 20ms/step - loss: 6.6581e-05 - accuracy: 1.0000 - val_loss: 0.0368 - val_accuracy: 0.9914\n",
            "Epoch 26/100\n",
            "1125/1125 [==============================] - 22s 20ms/step - loss: 5.9729e-05 - accuracy: 1.0000 - val_loss: 0.0372 - val_accuracy: 0.9914\n",
            "Epoch 27/100\n",
            "1125/1125 [==============================] - 22s 20ms/step - loss: 6.5286e-05 - accuracy: 1.0000 - val_loss: 0.0374 - val_accuracy: 0.9913\n",
            "Epoch 28/100\n",
            "1125/1125 [==============================] - 22s 20ms/step - loss: 5.8075e-05 - accuracy: 1.0000 - val_loss: 0.0373 - val_accuracy: 0.9914\n",
            "Epoch 29/100\n",
            "1125/1125 [==============================] - 23s 21ms/step - loss: 5.1745e-05 - accuracy: 1.0000 - val_loss: 0.0374 - val_accuracy: 0.9913\n",
            "Epoch 30/100\n",
            "1125/1125 [==============================] - 24s 21ms/step - loss: 5.6904e-05 - accuracy: 1.0000 - val_loss: 0.0374 - val_accuracy: 0.9915\n",
            "Epoch 31/100\n",
            "1125/1125 [==============================] - 23s 21ms/step - loss: 4.9569e-05 - accuracy: 1.0000 - val_loss: 0.0374 - val_accuracy: 0.9913\n",
            "Epoch 32/100\n",
            "1125/1125 [==============================] - 22s 20ms/step - loss: 4.9500e-05 - accuracy: 1.0000 - val_loss: 0.0377 - val_accuracy: 0.9916\n",
            "Epoch 33/100\n",
            "1125/1125 [==============================] - 24s 21ms/step - loss: 4.7677e-05 - accuracy: 1.0000 - val_loss: 0.0378 - val_accuracy: 0.9915\n",
            "Epoch 34/100\n",
            "1125/1125 [==============================] - 24s 21ms/step - loss: 4.7727e-05 - accuracy: 1.0000 - val_loss: 0.0378 - val_accuracy: 0.9916\n",
            "Epoch 35/100\n",
            "1125/1125 [==============================] - 22s 20ms/step - loss: 4.6575e-05 - accuracy: 1.0000 - val_loss: 0.0382 - val_accuracy: 0.9915\n",
            "Epoch 36/100\n",
            "1125/1125 [==============================] - 22s 20ms/step - loss: 4.5523e-05 - accuracy: 1.0000 - val_loss: 0.0381 - val_accuracy: 0.9916\n",
            "Epoch 37/100\n",
            "1125/1125 [==============================] - 22s 20ms/step - loss: 4.3220e-05 - accuracy: 1.0000 - val_loss: 0.0380 - val_accuracy: 0.9915\n",
            "Epoch 38/100\n",
            "1125/1125 [==============================] - 23s 21ms/step - loss: 4.2769e-05 - accuracy: 1.0000 - val_loss: 0.0385 - val_accuracy: 0.9915\n",
            "Epoch 39/100\n",
            "1125/1125 [==============================] - 23s 20ms/step - loss: 3.8306e-05 - accuracy: 1.0000 - val_loss: 0.0383 - val_accuracy: 0.9915\n",
            "Epoch 40/100\n",
            "1125/1125 [==============================] - 22s 20ms/step - loss: 3.8866e-05 - accuracy: 1.0000 - val_loss: 0.0383 - val_accuracy: 0.9915\n",
            "Epoch 41/100\n",
            "1125/1125 [==============================] - 24s 21ms/step - loss: 3.4137e-05 - accuracy: 1.0000 - val_loss: 0.0384 - val_accuracy: 0.9916\n",
            "Epoch 42/100\n",
            "1125/1125 [==============================] - 22s 20ms/step - loss: 3.5707e-05 - accuracy: 1.0000 - val_loss: 0.0385 - val_accuracy: 0.9916\n",
            "Epoch 43/100\n",
            "1125/1125 [==============================] - 22s 20ms/step - loss: 3.6418e-05 - accuracy: 1.0000 - val_loss: 0.0385 - val_accuracy: 0.9915\n",
            "Epoch 44/100\n",
            "1125/1125 [==============================] - 22s 20ms/step - loss: 3.3842e-05 - accuracy: 1.0000 - val_loss: 0.0387 - val_accuracy: 0.9915\n",
            "Epoch 45/100\n",
            "1125/1125 [==============================] - 24s 21ms/step - loss: 3.6380e-05 - accuracy: 1.0000 - val_loss: 0.0386 - val_accuracy: 0.9916\n",
            "Epoch 46/100\n",
            "1125/1125 [==============================] - 24s 21ms/step - loss: 3.3471e-05 - accuracy: 1.0000 - val_loss: 0.0388 - val_accuracy: 0.9916\n",
            "Epoch 47/100\n",
            "1125/1125 [==============================] - 23s 21ms/step - loss: 3.3687e-05 - accuracy: 1.0000 - val_loss: 0.0390 - val_accuracy: 0.9916\n",
            "Epoch 48/100\n",
            "1125/1125 [==============================] - 22s 20ms/step - loss: 3.1210e-05 - accuracy: 1.0000 - val_loss: 0.0390 - val_accuracy: 0.9916\n",
            "Epoch 49/100\n",
            "1125/1125 [==============================] - 24s 21ms/step - loss: 3.0388e-05 - accuracy: 1.0000 - val_loss: 0.0390 - val_accuracy: 0.9915\n",
            "Epoch 50/100\n",
            "1125/1125 [==============================] - 23s 21ms/step - loss: 2.9716e-05 - accuracy: 1.0000 - val_loss: 0.0391 - val_accuracy: 0.9915\n",
            "Epoch 51/100\n",
            "1125/1125 [==============================] - 22s 20ms/step - loss: 2.9126e-05 - accuracy: 1.0000 - val_loss: 0.0390 - val_accuracy: 0.9916\n",
            "Epoch 52/100\n",
            "1125/1125 [==============================] - 22s 20ms/step - loss: 2.9320e-05 - accuracy: 1.0000 - val_loss: 0.0392 - val_accuracy: 0.9915\n",
            "Epoch 53/100\n",
            "1125/1125 [==============================] - 23s 21ms/step - loss: 2.7792e-05 - accuracy: 1.0000 - val_loss: 0.0392 - val_accuracy: 0.9915\n",
            "Epoch 54/100\n",
            "1125/1125 [==============================] - 23s 21ms/step - loss: 2.6503e-05 - accuracy: 1.0000 - val_loss: 0.0393 - val_accuracy: 0.9914\n",
            "Epoch 55/100\n",
            "1125/1125 [==============================] - 22s 20ms/step - loss: 2.6537e-05 - accuracy: 1.0000 - val_loss: 0.0394 - val_accuracy: 0.9915\n",
            "Epoch 56/100\n",
            "1125/1125 [==============================] - 22s 20ms/step - loss: 2.4600e-05 - accuracy: 1.0000 - val_loss: 0.0393 - val_accuracy: 0.9915\n",
            "Epoch 57/100\n",
            "1125/1125 [==============================] - 23s 21ms/step - loss: 2.7205e-05 - accuracy: 1.0000 - val_loss: 0.0393 - val_accuracy: 0.9916\n",
            "Epoch 58/100\n",
            "1125/1125 [==============================] - 24s 21ms/step - loss: 2.6813e-05 - accuracy: 1.0000 - val_loss: 0.0394 - val_accuracy: 0.9915\n",
            "Epoch 59/100\n",
            "1125/1125 [==============================] - 22s 20ms/step - loss: 2.4579e-05 - accuracy: 1.0000 - val_loss: 0.0395 - val_accuracy: 0.9915\n",
            "Epoch 60/100\n",
            "1125/1125 [==============================] - 24s 21ms/step - loss: 2.9742e-05 - accuracy: 1.0000 - val_loss: 0.0394 - val_accuracy: 0.9916\n",
            "Epoch 61/100\n",
            "1125/1125 [==============================] - 22s 20ms/step - loss: 2.4024e-05 - accuracy: 1.0000 - val_loss: 0.0395 - val_accuracy: 0.9915\n",
            "Epoch 62/100\n",
            "1125/1125 [==============================] - 22s 20ms/step - loss: 2.4317e-05 - accuracy: 1.0000 - val_loss: 0.0395 - val_accuracy: 0.9916\n",
            "Epoch 63/100\n",
            "1125/1125 [==============================] - 23s 21ms/step - loss: 2.1720e-05 - accuracy: 1.0000 - val_loss: 0.0396 - val_accuracy: 0.9916\n",
            "Epoch 64/100\n",
            "1125/1125 [==============================] - 22s 20ms/step - loss: 2.1788e-05 - accuracy: 1.0000 - val_loss: 0.0396 - val_accuracy: 0.9916\n",
            "Epoch 65/100\n",
            "1125/1125 [==============================] - 22s 20ms/step - loss: 2.1566e-05 - accuracy: 1.0000 - val_loss: 0.0398 - val_accuracy: 0.9917\n",
            "Epoch 66/100\n",
            "1125/1125 [==============================] - 23s 20ms/step - loss: 2.1568e-05 - accuracy: 1.0000 - val_loss: 0.0398 - val_accuracy: 0.9917\n",
            "Epoch 67/100\n",
            "1125/1125 [==============================] - 24s 21ms/step - loss: 2.0247e-05 - accuracy: 1.0000 - val_loss: 0.0397 - val_accuracy: 0.9916\n",
            "Epoch 68/100\n",
            "1125/1125 [==============================] - 24s 21ms/step - loss: 1.9318e-05 - accuracy: 1.0000 - val_loss: 0.0398 - val_accuracy: 0.9916\n",
            "Epoch 69/100\n",
            "1125/1125 [==============================] - 23s 21ms/step - loss: 2.1449e-05 - accuracy: 1.0000 - val_loss: 0.0398 - val_accuracy: 0.9915\n",
            "Epoch 70/100\n",
            "1125/1125 [==============================] - 22s 20ms/step - loss: 2.1190e-05 - accuracy: 1.0000 - val_loss: 0.0398 - val_accuracy: 0.9917\n",
            "Epoch 71/100\n",
            "1125/1125 [==============================] - 22s 20ms/step - loss: 1.9653e-05 - accuracy: 1.0000 - val_loss: 0.0399 - val_accuracy: 0.9915\n",
            "Epoch 72/100\n",
            "1125/1125 [==============================] - 23s 21ms/step - loss: 2.0535e-05 - accuracy: 1.0000 - val_loss: 0.0399 - val_accuracy: 0.9917\n",
            "Epoch 73/100\n",
            "1125/1125 [==============================] - 22s 20ms/step - loss: 1.9543e-05 - accuracy: 1.0000 - val_loss: 0.0400 - val_accuracy: 0.9916\n",
            "Epoch 74/100\n",
            "1125/1125 [==============================] - 24s 21ms/step - loss: 1.9454e-05 - accuracy: 1.0000 - val_loss: 0.0400 - val_accuracy: 0.9917\n",
            "Epoch 75/100\n",
            "1125/1125 [==============================] - 22s 20ms/step - loss: 1.9339e-05 - accuracy: 1.0000 - val_loss: 0.0400 - val_accuracy: 0.9915\n",
            "Epoch 76/100\n",
            "1125/1125 [==============================] - 24s 21ms/step - loss: 1.9036e-05 - accuracy: 1.0000 - val_loss: 0.0401 - val_accuracy: 0.9916\n",
            "Epoch 77/100\n",
            "1125/1125 [==============================] - 22s 20ms/step - loss: 1.8749e-05 - accuracy: 1.0000 - val_loss: 0.0402 - val_accuracy: 0.9916\n",
            "Epoch 78/100\n",
            "1125/1125 [==============================] - 24s 21ms/step - loss: 1.7513e-05 - accuracy: 1.0000 - val_loss: 0.0402 - val_accuracy: 0.9916\n",
            "Epoch 79/100\n",
            "1125/1125 [==============================] - 24s 21ms/step - loss: 1.6225e-05 - accuracy: 1.0000 - val_loss: 0.0402 - val_accuracy: 0.9915\n",
            "Epoch 80/100\n",
            "1125/1125 [==============================] - 22s 20ms/step - loss: 1.7963e-05 - accuracy: 1.0000 - val_loss: 0.0403 - val_accuracy: 0.9916\n",
            "Epoch 81/100\n",
            "1125/1125 [==============================] - 24s 21ms/step - loss: 1.7114e-05 - accuracy: 1.0000 - val_loss: 0.0404 - val_accuracy: 0.9915\n",
            "Epoch 82/100\n",
            "1125/1125 [==============================] - 22s 20ms/step - loss: 1.7314e-05 - accuracy: 1.0000 - val_loss: 0.0405 - val_accuracy: 0.9915\n",
            "Epoch 83/100\n",
            "1125/1125 [==============================] - 22s 20ms/step - loss: 1.8095e-05 - accuracy: 1.0000 - val_loss: 0.0405 - val_accuracy: 0.9917\n",
            "Epoch 84/100\n",
            "1125/1125 [==============================] - 23s 20ms/step - loss: 1.7652e-05 - accuracy: 1.0000 - val_loss: 0.0403 - val_accuracy: 0.9916\n",
            "Epoch 85/100\n",
            "1125/1125 [==============================] - 22s 20ms/step - loss: 1.7263e-05 - accuracy: 1.0000 - val_loss: 0.0405 - val_accuracy: 0.9916\n",
            "Epoch 86/100\n",
            "1125/1125 [==============================] - 22s 20ms/step - loss: 1.6439e-05 - accuracy: 1.0000 - val_loss: 0.0405 - val_accuracy: 0.9916\n",
            "Epoch 87/100\n",
            "1125/1125 [==============================] - 22s 20ms/step - loss: 1.6203e-05 - accuracy: 1.0000 - val_loss: 0.0406 - val_accuracy: 0.9916\n",
            "Epoch 88/100\n",
            "1125/1125 [==============================] - 24s 21ms/step - loss: 1.5465e-05 - accuracy: 1.0000 - val_loss: 0.0406 - val_accuracy: 0.9916\n",
            "Epoch 89/100\n",
            "1125/1125 [==============================] - 23s 21ms/step - loss: 1.6234e-05 - accuracy: 1.0000 - val_loss: 0.0406 - val_accuracy: 0.9916\n",
            "Epoch 90/100\n",
            "1125/1125 [==============================] - 22s 20ms/step - loss: 1.4740e-05 - accuracy: 1.0000 - val_loss: 0.0407 - val_accuracy: 0.9916\n",
            "Epoch 91/100\n",
            "1125/1125 [==============================] - 24s 21ms/step - loss: 1.5658e-05 - accuracy: 1.0000 - val_loss: 0.0406 - val_accuracy: 0.9916\n",
            "Epoch 92/100\n",
            "1125/1125 [==============================] - 23s 21ms/step - loss: 1.6130e-05 - accuracy: 1.0000 - val_loss: 0.0407 - val_accuracy: 0.9917\n",
            "Epoch 93/100\n",
            "1125/1125 [==============================] - 22s 20ms/step - loss: 1.4348e-05 - accuracy: 1.0000 - val_loss: 0.0408 - val_accuracy: 0.9917\n",
            "Epoch 94/100\n",
            "1125/1125 [==============================] - 24s 21ms/step - loss: 1.5099e-05 - accuracy: 1.0000 - val_loss: 0.0408 - val_accuracy: 0.9916\n",
            "Epoch 95/100\n",
            "1125/1125 [==============================] - 23s 20ms/step - loss: 1.4938e-05 - accuracy: 1.0000 - val_loss: 0.0409 - val_accuracy: 0.9916\n",
            "Epoch 96/100\n",
            "1125/1125 [==============================] - 24s 21ms/step - loss: 1.3737e-05 - accuracy: 1.0000 - val_loss: 0.0410 - val_accuracy: 0.9916\n",
            "Epoch 97/100\n",
            "1125/1125 [==============================] - 25s 22ms/step - loss: 1.4711e-05 - accuracy: 1.0000 - val_loss: 0.0410 - val_accuracy: 0.9916\n",
            "Epoch 98/100\n",
            "1125/1125 [==============================] - 22s 20ms/step - loss: 1.5612e-05 - accuracy: 1.0000 - val_loss: 0.0409 - val_accuracy: 0.9916\n",
            "Epoch 99/100\n",
            "1125/1125 [==============================] - 22s 20ms/step - loss: 1.3982e-05 - accuracy: 1.0000 - val_loss: 0.0410 - val_accuracy: 0.9916\n",
            "Epoch 100/100\n",
            "1125/1125 [==============================] - 24s 21ms/step - loss: 1.3291e-05 - accuracy: 1.0000 - val_loss: 0.0410 - val_accuracy: 0.9917\n",
            "\n",
            "Best epoch:92\n"
          ]
        }
      ],
      "source": [
        "# Build the model with the optimal HPs and train it\n",
        "\n",
        "hypermodel = tuner.hypermodel.build(best_hps)\n",
        "\n",
        "fit_start = time.time()\n",
        "history = hypermodel.fit(img_train, label_train, epochs=100, validation_split=0.4)\n",
        "\n",
        "val_acc_per_epoch = history.history['val_accuracy']\n",
        "best_epoch = val_acc_per_epoch.index(max(val_acc_per_epoch)) + 1\n",
        "print(f'\\nBest epoch:{best_epoch}')"
      ]
    },
    {
      "cell_type": "code",
      "source": [
        "fit_end = time.time()\n",
        "fit_duration = fit_end-fit_start\n",
        "fit_minutes = fit_duration/60\n",
        "\n",
        "print(f'Training duration: {fit_duration:.3f} seconds ({fit_minutes:.2f} minutes)')"
      ],
      "metadata": {
        "colab": {
          "base_uri": "https://localhost:8080/"
        },
        "id": "EQ1Pnxdm81d0",
        "outputId": "5949cdb4-2563-4d6b-f2d5-811211711440"
      },
      "execution_count": null,
      "outputs": [
        {
          "output_type": "stream",
          "name": "stdout",
          "text": [
            "Training duration: 2302.757 seconds (38.38 minutes)\n"
          ]
        }
      ]
    },
    {
      "cell_type": "markdown",
      "metadata": {
        "id": "MqU5ZVAaag2v"
      },
      "source": [
        "##Evaluate the Hypermodel"
      ]
    },
    {
      "cell_type": "code",
      "execution_count": null,
      "metadata": {
        "id": "9E0BTp9Ealjb",
        "colab": {
          "base_uri": "https://localhost:8080/"
        },
        "outputId": "f40eea32-6d46-45bb-a823-f1e1f8494d47"
      },
      "outputs": [
        {
          "output_type": "stream",
          "name": "stdout",
          "text": [
            "313/313 [==============================] - 3s 7ms/step - loss: 0.0271 - accuracy: 0.9934\n",
            "\n",
            "\n",
            "Test loss: 2.71 %\n",
            "Test accuracy: 99.34 %\n"
          ]
        }
      ],
      "source": [
        "eval_result = hypermodel.evaluate(img_test, label_test)\n",
        "print(f'\\n\\nTest loss: {100*eval_result[0]:.2f} %\\nTest accuracy: {100*eval_result[1]:.2f} %')"
      ]
    },
    {
      "cell_type": "code",
      "source": [
        "print(\"------------ BEST HYPERPARAMETERS FOUND ------------\\n\")\n",
        "best_hps.values"
      ],
      "metadata": {
        "id": "wr4q0Dxt0mK9",
        "colab": {
          "base_uri": "https://localhost:8080/"
        },
        "outputId": "5b1a0d44-a2fa-4d39-baff-163bcda90440"
      },
      "execution_count": null,
      "outputs": [
        {
          "output_type": "stream",
          "name": "stdout",
          "text": [
            "------------ BEST HYPERPARAMETERS FOUND ------------\n",
            "\n"
          ]
        },
        {
          "output_type": "execute_result",
          "data": {
            "text/plain": [
              "{'conv1_units': 352,\n",
              " 'conv2_units': 352,\n",
              " 'conv3_units': 192,\n",
              " 'kern_size1': 5,\n",
              " 'kern_size2': 5,\n",
              " 'kern_size3': 4,\n",
              " 'pool_sz1': 2,\n",
              " 'pool_sz2': 4,\n",
              " 'pool_sz3': 3,\n",
              " 'stride_conv1': 3,\n",
              " 'stride_conv2': 1,\n",
              " 'stride_conv3': 1,\n",
              " 'stride_pool1': 1,\n",
              " 'stride_pool2': 2,\n",
              " 'stride_pool3': 4,\n",
              " 'activation': 'tanh',\n",
              " 'dense_units1': 64,\n",
              " 'dense_units2': 288,\n",
              " 'dropout_rate1': 0.1,\n",
              " 'dropout_rate2': 0.0,\n",
              " 'optimizer': 'SGD',\n",
              " 'learning_rate': 0.1}"
            ]
          },
          "metadata": {},
          "execution_count": 12
        }
      ]
    },
    {
      "cell_type": "code",
      "source": [
        "hypermodel.summary()"
      ],
      "metadata": {
        "id": "xUH6Q6vkKul1",
        "colab": {
          "base_uri": "https://localhost:8080/"
        },
        "outputId": "3182bbde-7eec-4316-98cb-11cc0176e978"
      },
      "execution_count": null,
      "outputs": [
        {
          "output_type": "stream",
          "name": "stdout",
          "text": [
            "Model: \"sequential_1\"\n",
            "_________________________________________________________________\n",
            " Layer (type)                Output Shape              Param #   \n",
            "=================================================================\n",
            " conv2d_3 (Conv2D)           (None, 10, 10, 352)       9152      \n",
            "                                                                 \n",
            " max_pooling2d_3 (MaxPoolin  (None, 10, 10, 352)       0         \n",
            " g2D)                                                            \n",
            "                                                                 \n",
            " conv2d_4 (Conv2D)           (None, 10, 10, 352)       3097952   \n",
            "                                                                 \n",
            " max_pooling2d_4 (MaxPoolin  (None, 5, 5, 352)         0         \n",
            " g2D)                                                            \n",
            "                                                                 \n",
            " conv2d_5 (Conv2D)           (None, 5, 5, 192)         1081536   \n",
            "                                                                 \n",
            " max_pooling2d_5 (MaxPoolin  (None, 2, 2, 192)         0         \n",
            " g2D)                                                            \n",
            "                                                                 \n",
            " flatten_1 (Flatten)         (None, 768)               0         \n",
            "                                                                 \n",
            " dense_3 (Dense)             (None, 64)                49216     \n",
            "                                                                 \n",
            " dropout_2 (Dropout)         (None, 64)                0         \n",
            "                                                                 \n",
            " dense_4 (Dense)             (None, 288)               18720     \n",
            "                                                                 \n",
            " dropout_3 (Dropout)         (None, 288)               0         \n",
            "                                                                 \n",
            " dense_5 (Dense)             (None, 10)                2890      \n",
            "                                                                 \n",
            "=================================================================\n",
            "Total params: 4259466 (16.25 MB)\n",
            "Trainable params: 4259466 (16.25 MB)\n",
            "Non-trainable params: 0 (0.00 Byte)\n",
            "_________________________________________________________________\n"
          ]
        }
      ]
    },
    {
      "cell_type": "markdown",
      "source": [
        "###Plot loss and accuracy curves"
      ],
      "metadata": {
        "id": "vGGM_i7BLRob"
      }
    },
    {
      "cell_type": "code",
      "source": [
        "import matplotlib.pyplot as plt\n",
        "\n",
        "plt.figure(figsize=[8,4])\n",
        "plt.plot(history.history['loss'],'r',linewidth=2.0)\n",
        "plt.plot(history.history['val_loss'],'b',linewidth=2.0)\n",
        "plt.legend(['Training loss', 'Validation Loss'],fontsize=12)\n",
        "plt.xlabel('Epochs ',fontsize=12)\n",
        "plt.ylabel('Loss',fontsize=12)\n",
        "plt.title('Loss Curves',fontsize=14)"
      ],
      "metadata": {
        "id": "iIDdlj7MKyZu",
        "colab": {
          "base_uri": "https://localhost:8080/",
          "height": 433
        },
        "outputId": "5f183faa-0bfb-4325-e036-448d860efc57"
      },
      "execution_count": null,
      "outputs": [
        {
          "output_type": "execute_result",
          "data": {
            "text/plain": [
              "Text(0.5, 1.0, 'Loss Curves')"
            ]
          },
          "metadata": {},
          "execution_count": 14
        },
        {
          "output_type": "display_data",
          "data": {
            "text/plain": [
              "<Figure size 800x400 with 1 Axes>"
            ],
            "image/png": "[encoded data removed]"
          },
          "metadata": {}
        }
      ]
    },
    {
      "cell_type": "code",
      "source": [
        "plt.figure(figsize=[8,4])\n",
        "plt.plot(history.history['accuracy'],'r',linewidth=2.0)\n",
        "plt.plot(history.history['val_accuracy'],'b',linewidth=2.0)\n",
        "plt.legend(['Training Accuracy', 'Validation Accuracy'],fontsize=12)\n",
        "plt.xlabel('Epochs ',fontsize=12)\n",
        "plt.ylabel('Accuracy',fontsize=12)\n",
        "plt.title('Accuracy Curves',fontsize=14)"
      ],
      "metadata": {
        "id": "uEdiNrNaLOzg",
        "colab": {
          "base_uri": "https://localhost:8080/",
          "height": 433
        },
        "outputId": "f8924683-e244-4272-9d0d-b78f44780ee7"
      },
      "execution_count": null,
      "outputs": [
        {
          "output_type": "execute_result",
          "data": {
            "text/plain": [
              "Text(0.5, 1.0, 'Accuracy Curves')"
            ]
          },
          "metadata": {},
          "execution_count": 15
        },
        {
          "output_type": "display_data",
          "data": {
            "text/plain": [
              "<Figure size 800x400 with 1 Axes>"
            ],
            "image/png": "[encoded data removed]"
          },
          "metadata": {}
        }
      ]
    },
    {
      "cell_type": "code",
      "source": [
        "# HPS:\n",
        "# 'conv_units'\n",
        "# 'dense_units'\n",
        "# 'kernel_size'\n",
        "# 'pool_size'\n",
        "# 'strides'\n",
        "# 'activation function'\n",
        "# 'dropout_rate'\n",
        "# 'optimizer'\n",
        "# 'learning_rate'"
      ],
      "metadata": {
        "id": "pNMyPYWRxmNY"
      },
      "execution_count": null,
      "outputs": []
    }
  ],
  "metadata": {
    "accelerator": "GPU",
    "colab": {
      "provenance": [],
      "include_colab_link": true
    },
    "kernelspec": {
      "display_name": "Python 3",
      "name": "python3"
    }
  },
  "nbformat": 4,
  "nbformat_minor": 0
}